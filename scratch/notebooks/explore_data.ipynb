{
 "cells": [
  {
   "cell_type": "code",
   "execution_count": 1,
   "id": "05c46cbf-68b6-4661-a284-81469e7119c2",
   "metadata": {},
   "outputs": [],
   "source": [
    "from sqlalchemy import create_engine\n",
    "from pathlib import Path\n",
    "import pandas as pd"
   ]
  },
  {
   "cell_type": "code",
   "execution_count": 2,
   "id": "9081d923-9968-4701-bd10-f035afdc1b68",
   "metadata": {},
   "outputs": [
    {
     "data": {
      "text/plain": [
       "(25991, 38)"
      ]
     },
     "execution_count": 2,
     "metadata": {},
     "output_type": "execute_result"
    }
   ],
   "source": [
    "# load data from database\n",
    "repo = Path.cwd()\n",
    "path = repo / 'data' / 'DisasterResponse.db'\n",
    "\n",
    "engine = create_engine(f'sqlite:///{path}')\n",
    "df = pd.read_sql(\"select * from Message\", con=engine)\n",
    "df.shape"
   ]
  },
  {
   "cell_type": "code",
   "execution_count": 3,
   "id": "d6503d9e-e079-4864-9a11-a66377023909",
   "metadata": {},
   "outputs": [
    {
     "data": {
      "text/plain": [
       "Index(['related', 'request', 'offer', 'aid_related', 'medical_help',\n",
       "       'medical_products', 'search_and_rescue', 'security', 'military',\n",
       "       'water', 'food', 'shelter', 'clothing', 'money', 'missing_people',\n",
       "       'refugees', 'death', 'other_aid', 'infrastructure_related', 'transport',\n",
       "       'buildings', 'electricity', 'tools', 'hospitals', 'shops',\n",
       "       'aid_centers', 'other_infrastructure', 'weather_related', 'floods',\n",
       "       'storm', 'fire', 'earthquake', 'cold', 'other_weather', 'direct_report',\n",
       "       'message', 'original', 'genre'],\n",
       "      dtype='object')"
      ]
     },
     "execution_count": 3,
     "metadata": {},
     "output_type": "execute_result"
    }
   ],
   "source": [
    "df.columns"
   ]
  },
  {
   "cell_type": "code",
   "execution_count": 7,
   "id": "24060c53-3277-4348-91f7-9073a776ffc5",
   "metadata": {},
   "outputs": [
    {
     "data": {
      "text/plain": [
       "related                   76.472625\n",
       "aid_related               41.710592\n",
       "weather_related           28.032781\n",
       "direct_report             19.483667\n",
       "request                   17.175176\n",
       "other_aid                 13.239198\n",
       "food                      11.223116\n",
       "earthquake                 9.434035\n",
       "storm                      9.387865\n",
       "shelter                    8.879997\n",
       "floods                     8.268247\n",
       "medical_help               8.006618\n",
       "infrastructure_related     6.559963\n",
       "water                      6.421454\n",
       "other_weather              5.294140\n",
       "buildings                  5.121003\n",
       "medical_products           5.044054\n",
       "transport                  4.613135\n",
       "death                      4.586203\n",
       "other_infrastructure       4.428456\n",
       "refugees                   3.362702\n",
       "military                   3.304990\n",
       "search_and_rescue          2.785580\n",
       "money                      2.320034\n",
       "electricity                2.046862\n",
       "cold                       2.031472\n",
       "security                   1.812166\n",
       "clothing                   1.554384\n",
       "aid_centers                1.188873\n",
       "missing_people             1.146551\n",
       "hospitals                  1.088838\n",
       "fire                       1.084991\n",
       "tools                      0.611750\n",
       "shops                      0.461698\n",
       "offer                      0.454003\n",
       "dtype: float64"
      ]
     },
     "execution_count": 7,
     "metadata": {},
     "output_type": "execute_result"
    }
   ],
   "source": [
    "# imbalance in target values\n",
    "df.iloc[:,:-3].mean().sort_values(ascending=False) * 100"
   ]
  },
  {
   "cell_type": "markdown",
   "id": "b3f423b8-8192-4eac-a679-42a3b40fe9e5",
   "metadata": {},
   "source": [
    "The data is severely imbalanced. Except for 'related' and 'aid_related', there are very few positive observations in the other categories. In fact, most have fewer than 10 percent in the positive class. "
   ]
  },
  {
   "cell_type": "markdown",
   "id": "a65bbdf0-b5ae-4e1b-a621-fe51fc448d17",
   "metadata": {},
   "source": [
    "Further, 'related' is skewed in the other direction where more then three-quarters of observations are considered as 'related'. In fact, where 'related' is not equal to 1, there are no entries in the other columns. 'related' is simply a flag for whether the message is disaster-related or not."
   ]
  },
  {
   "cell_type": "code",
   "execution_count": 9,
   "id": "0146ac9e-f04c-427e-ac8e-00307bb219c5",
   "metadata": {},
   "outputs": [
    {
     "data": {
      "text/plain": [
       "related                   0.0\n",
       "other_infrastructure      0.0\n",
       "buildings                 0.0\n",
       "electricity               0.0\n",
       "tools                     0.0\n",
       "hospitals                 0.0\n",
       "shops                     0.0\n",
       "aid_centers               0.0\n",
       "weather_related           0.0\n",
       "infrastructure_related    0.0\n",
       "floods                    0.0\n",
       "storm                     0.0\n",
       "fire                      0.0\n",
       "earthquake                0.0\n",
       "cold                      0.0\n",
       "other_weather             0.0\n",
       "transport                 0.0\n",
       "other_aid                 0.0\n",
       "request                   0.0\n",
       "military                  0.0\n",
       "offer                     0.0\n",
       "aid_related               0.0\n",
       "medical_help              0.0\n",
       "medical_products          0.0\n",
       "search_and_rescue         0.0\n",
       "security                  0.0\n",
       "water                     0.0\n",
       "death                     0.0\n",
       "food                      0.0\n",
       "shelter                   0.0\n",
       "clothing                  0.0\n",
       "money                     0.0\n",
       "missing_people            0.0\n",
       "refugees                  0.0\n",
       "direct_report             0.0\n",
       "dtype: float64"
      ]
     },
     "execution_count": 9,
     "metadata": {},
     "output_type": "execute_result"
    }
   ],
   "source": [
    "df[df.related != 1].iloc[:, :-3].mean().sort_values(ascending=False)"
   ]
  },
  {
   "cell_type": "code",
   "execution_count": 8,
   "id": "bd1f5c91-ffa6-4751-99e4-4e7fade410e1",
   "metadata": {},
   "outputs": [
    {
     "data": {
      "text/plain": [
       "5                   Information about the National Palace-\n",
       "8          I would like to receive the messages, thank you\n",
       "11       I am in Petionville. I need more information r...\n",
       "17       are you going to call me or do you want me to ...\n",
       "18          I don't understand how to use this thing 4636.\n",
       "                               ...                        \n",
       "25975    WHO is recruiting a sanitary engineer / consul...\n",
       "25979    Cadmium, a metallic element widely used in bat...\n",
       "25984    However while ECOWAS wanted him to lead a 12-m...\n",
       "25986    The training demonstrated how to enhance micro...\n",
       "25987    A suitable candidate has been selected and OCH...\n",
       "Name: message, Length: 6115, dtype: object"
      ]
     },
     "execution_count": 8,
     "metadata": {},
     "output_type": "execute_result"
    }
   ],
   "source": [
    "df[df.related != 1].iloc[:, -3]"
   ]
  },
  {
   "cell_type": "markdown",
   "id": "9b2675cd-81e0-421b-a293-c0fd275b65e4",
   "metadata": {},
   "source": [
    "Any classifier will have to address the severe imbalance in the data."
   ]
  },
  {
   "cell_type": "code",
   "execution_count": null,
   "id": "26c037b2-ff2d-4a8c-baae-520959e2e988",
   "metadata": {},
   "outputs": [],
   "source": []
  }
 ],
 "metadata": {
  "kernelspec": {
   "display_name": "Python 3 (ipykernel)",
   "language": "python",
   "name": "python3"
  },
  "language_info": {
   "codemirror_mode": {
    "name": "ipython",
    "version": 3
   },
   "file_extension": ".py",
   "mimetype": "text/x-python",
   "name": "python",
   "nbconvert_exporter": "python",
   "pygments_lexer": "ipython3",
   "version": "3.9.1"
  }
 },
 "nbformat": 4,
 "nbformat_minor": 5
}
