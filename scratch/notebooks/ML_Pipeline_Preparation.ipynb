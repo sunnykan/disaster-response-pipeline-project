{
 "cells": [
  {
   "cell_type": "markdown",
   "metadata": {},
   "source": [
    "# ML Pipeline Preparation\n",
    "Follow the instructions below to help you create your ML pipeline.\n",
    "### 1. Import libraries and load data from database.\n",
    "- Import Python libraries\n",
    "- Load dataset from database with [`read_sql_table`](https://pandas.pydata.org/pandas-docs/stable/generated/pandas.read_sql_table.html)\n",
    "- Define feature and target variables X and Y"
   ]
  },
  {
   "cell_type": "code",
   "execution_count": 1,
   "metadata": {},
   "outputs": [],
   "source": [
    "# import libraries\n",
    "from sqlalchemy import create_engine\n",
    "import pandas as pd\n",
    "from pathlib import Path\n",
    "import re\n",
    "import numpy as np\n",
    "import json\n",
    "\n",
    "from sklearn.model_selection import train_test_split\n",
    "from sklearn.feature_extraction.text import CountVectorizer\n",
    "from sklearn.feature_extraction.text import TfidfTransformer\n",
    "from sklearn.multioutput import MultiOutputClassifier\n",
    "from sklearn.ensemble import GradientBoostingClassifier\n",
    "from sklearn.pipeline import Pipeline\n",
    "from sklearn.metrics import classification_report\n",
    "\n",
    "from nltk.stem.wordnet import WordNetLemmatizer\n",
    "from nltk.tokenize import word_tokenize\n",
    "from nltk.corpus import stopwords\n",
    "from nltk.corpus import words"
   ]
  },
  {
   "cell_type": "code",
   "execution_count": 2,
   "metadata": {},
   "outputs": [
    {
     "data": {
      "text/plain": [
       "(25991, 38)"
      ]
     },
     "execution_count": 2,
     "metadata": {},
     "output_type": "execute_result"
    }
   ],
   "source": [
    "# load data from database\n",
    "repo = Path.cwd()\n",
    "path = repo / 'data' / 'DisasterResponse.db'\n",
    "\n",
    "engine = create_engine(f'sqlite:///{path}')\n",
    "df = pd.read_sql(\"select * from Message\", con=engine)\n",
    "df.shape"
   ]
  },
  {
   "cell_type": "markdown",
   "metadata": {},
   "source": [
    "#check imbalance in target\n",
    "See explore_data.ipynb"
   ]
  },
  {
   "cell_type": "markdown",
   "metadata": {},
   "source": [
    "### 2. Write a tokenization function to process your text data"
   ]
  },
  {
   "cell_type": "code",
   "execution_count": 3,
   "metadata": {},
   "outputs": [],
   "source": [
    "stop_words = stopwords.words(\"english\")\n",
    "vocab = set(words.words())\n",
    "vocab = vocab - set(stop_words)\n",
    "lemmatizer = WordNetLemmatizer()\n",
    "words_set = {lemmatizer.lemmatize(word) for word in vocab}"
   ]
  },
  {
   "cell_type": "code",
   "execution_count": 4,
   "metadata": {},
   "outputs": [],
   "source": [
    "def tokenize(text):\n",
    "    \"\"\"TO DO\n",
    "    \"\"\"\n",
    "    \n",
    "    text = re.sub(r\"[^a-zA-Z]\", \" \", text.lower())\n",
    "    tokens = word_tokenize(text)\n",
    "    lemmatizer = WordNetLemmatizer()\n",
    "    \n",
    "    clean_tokens = [lemmatizer.lemmatize(token).strip() for token in tokens if token in words_set]\n",
    "    \n",
    "    return clean_tokens"
   ]
  },
  {
   "cell_type": "markdown",
   "metadata": {},
   "source": [
    "### 3. Build a machine learning pipeline\n",
    "This machine pipeline should take in the `message` column as input and output classification results on the other 36 categories in the dataset. You may find the [MultiOutputClassifier](http://scikit-learn.org/stable/modules/generated/sklearn.multioutput.MultiOutputClassifier.html) helpful for predicting multiple target variables."
   ]
  },
  {
   "cell_type": "code",
   "execution_count": 5,
   "metadata": {},
   "outputs": [],
   "source": [
    "pipeline = Pipeline([\n",
    "    (\"cv\", CountVectorizer(tokenizer=tokenize)),\n",
    "    (\"transformer\", TfidfTransformer()),\n",
    "    (\"gboost\", MultiOutputClassifier(GradientBoostingClassifier(n_estimators=100, learning_rate=1.0,\n",
    "    max_depth=1, random_state=42)))\n",
    "])"
   ]
  },
  {
   "cell_type": "markdown",
   "metadata": {},
   "source": [
    "### 4. Train pipeline\n",
    "- Split data into train and test sets\n",
    "- Train pipeline"
   ]
  },
  {
   "cell_type": "code",
   "execution_count": 6,
   "metadata": {},
   "outputs": [
    {
     "data": {
      "text/plain": [
       "((20792,), (5199,), (20792, 35), (5199, 35))"
      ]
     },
     "execution_count": 6,
     "metadata": {},
     "output_type": "execute_result"
    }
   ],
   "source": [
    "X = df['message'].values\n",
    "Y = df.iloc[:, :-3].values\n",
    "\n",
    "X_train, X_test, Y_train, Y_test = train_test_split(X, Y, test_size=0.2, random_state=42)\n",
    "X_train.shape, X_test.shape, Y_train.shape, Y_test.shape"
   ]
  },
  {
   "cell_type": "code",
   "execution_count": 13,
   "metadata": {},
   "outputs": [],
   "source": [
    "pipeline.fit(X_train, Y_train) "
   ]
  },
  {
   "cell_type": "code",
   "execution_count": 14,
   "metadata": {},
   "outputs": [],
   "source": [
    "Y_preds = pipeline.predict(X_test)"
   ]
  },
  {
   "cell_type": "markdown",
   "metadata": {},
   "source": [
    "### 5. Test your model\n",
    "Report the f1 score, precision and recall for each output category of the dataset. You can do this by iterating through the columns and calling sklearn's `classification_report` on each."
   ]
  },
  {
   "cell_type": "code",
   "execution_count": 15,
   "metadata": {},
   "outputs": [],
   "source": [
    "def get_metrics(y_test, y_pred):\n",
    "    \"\"\"TO DO\n",
    "    \"\"\"\n",
    "    cr = classification_report(y_test, y_pred, zero_division=0, output_dict=True)\n",
    "    return cr"
   ]
  },
  {
   "cell_type": "code",
   "execution_count": 17,
   "metadata": {},
   "outputs": [],
   "source": [
    "def generate_report():\n",
    "    report_dict = {}\n",
    "    for idx, output in enumerate(output_labels):\n",
    "        metrics_dict = get_metrics(Y_test[:,idx], Y_preds[:,idx])\n",
    "        report_dict[output] = metrics_dict\n",
    "        \n",
    "    with open('gboost_model_results.json', 'w', encoding=\"utf-8\") as fhand:\n",
    "        json.dump(report_dict, fhand)\n",
    "    \n",
    "    for k, v in report_dict.items():\n",
    "        print(f\"\"\"category: {k} \\n accuracy: {v['accuracy']:.4f}, precision: {v['1']['precision']:.4f}, recall: {v['1']['recall']:.4f}, f-score: {v['1']['f1-score']:.4f}\"\"\")"
   ]
  },
  {
   "cell_type": "code",
   "execution_count": 18,
   "metadata": {},
   "outputs": [
    {
     "name": "stdout",
     "output_type": "stream",
     "text": [
      "category: related \n",
      " accuracy: 0.7988, precision: 0.8243, recall: 0.9379, f-score: 0.8775\n",
      "category: request \n",
      " accuracy: 0.8809, precision: 0.7496, recall: 0.5000, f-score: 0.5999\n",
      "category: offer \n",
      " accuracy: 0.9946, precision: 0.0000, recall: 0.0000, f-score: 0.0000\n",
      "category: aid_related \n",
      " accuracy: 0.7434, precision: 0.7362, recall: 0.6044, f-score: 0.6638\n",
      "category: medical_help \n",
      " accuracy: 0.9206, precision: 0.6867, recall: 0.1284, f-score: 0.2163\n",
      "category: medical_products \n",
      " accuracy: 0.9544, precision: 0.5344, recall: 0.2846, f-score: 0.3714\n",
      "category: search_and_rescue \n",
      " accuracy: 0.9735, precision: 0.0000, recall: 0.0000, f-score: 0.0000\n",
      "category: security \n",
      " accuracy: 0.9835, precision: 0.0000, recall: 0.0000, f-score: 0.0000\n",
      "category: military \n",
      " accuracy: 0.9677, precision: 0.0000, recall: 0.0000, f-score: 0.0000\n",
      "category: water \n",
      " accuracy: 0.9486, precision: 0.5462, recall: 0.8360, f-score: 0.6607\n",
      "category: food \n",
      " accuracy: 0.9433, precision: 0.7945, recall: 0.6779, f-score: 0.7316\n",
      "category: shelter \n",
      " accuracy: 0.9288, precision: 0.7061, recall: 0.3470, f-score: 0.4653\n",
      "category: clothing \n",
      " accuracy: 0.9900, precision: 0.7500, recall: 0.4737, f-score: 0.5806\n",
      "category: money \n",
      " accuracy: 0.9729, precision: 1.0000, recall: 0.0070, f-score: 0.0140\n",
      "category: missing_people \n",
      " accuracy: 0.9902, precision: 0.6842, recall: 0.2241, f-score: 0.3377\n",
      "category: refugees \n",
      " accuracy: 0.9677, precision: 0.0000, recall: 0.0000, f-score: 0.0000\n",
      "category: death \n",
      " accuracy: 0.9571, precision: 0.4762, recall: 0.1364, f-score: 0.2120\n",
      "category: other_aid \n",
      " accuracy: 0.8538, precision: 0.4008, recall: 0.1362, f-score: 0.2034\n",
      "category: infrastructure_related \n",
      " accuracy: 0.9321, precision: 0.5200, recall: 0.0367, f-score: 0.0686\n",
      "category: transport \n",
      " accuracy: 0.9515, precision: 0.4561, recall: 0.1053, f-score: 0.1711\n",
      "category: buildings \n",
      " accuracy: 0.9471, precision: 0.4235, recall: 0.1374, f-score: 0.2075\n",
      "category: electricity \n",
      " accuracy: 0.9792, precision: 0.0000, recall: 0.0000, f-score: 0.0000\n",
      "category: tools \n",
      " accuracy: 0.9940, precision: 0.0000, recall: 0.0000, f-score: 0.0000\n",
      "category: hospitals \n",
      " accuracy: 0.9892, precision: 0.0000, recall: 0.0000, f-score: 0.0000\n",
      "category: shops \n",
      " accuracy: 0.9927, precision: 0.0000, recall: 0.0000, f-score: 0.0000\n",
      "category: aid_centers \n",
      " accuracy: 0.9744, precision: 0.1084, recall: 0.1324, f-score: 0.1192\n",
      "category: other_infrastructure \n",
      " accuracy: 0.9556, precision: 0.5200, recall: 0.0560, f-score: 0.1012\n",
      "category: weather_related \n",
      " accuracy: 0.8619, precision: 0.8140, recall: 0.6561, f-score: 0.7266\n",
      "category: floods \n",
      " accuracy: 0.9442, precision: 0.7928, recall: 0.4190, f-score: 0.5483\n",
      "category: storm \n",
      " accuracy: 0.9338, precision: 0.7909, recall: 0.4442, f-score: 0.5689\n",
      "category: fire \n",
      " accuracy: 0.9896, precision: 1.0000, recall: 0.0182, f-score: 0.0357\n",
      "category: earthquake \n",
      " accuracy: 0.9698, precision: 0.9000, recall: 0.7608, f-score: 0.8246\n",
      "category: cold \n",
      " accuracy: 0.9838, precision: 0.7333, recall: 0.2245, f-score: 0.3438\n",
      "category: other_weather \n",
      " accuracy: 0.9544, precision: 0.0000, recall: 0.0000, f-score: 0.0000\n",
      "category: direct_report \n",
      " accuracy: 0.8382, precision: 0.6587, recall: 0.3987, f-score: 0.4967\n"
     ]
    }
   ],
   "source": [
    "generate_report()"
   ]
  },
  {
   "cell_type": "markdown",
   "metadata": {},
   "source": [
    "### 6. Improve your model\n",
    "Use grid search to find better parameters. "
   ]
  },
  {
   "cell_type": "code",
   "execution_count": 19,
   "metadata": {},
   "outputs": [
    {
     "data": {
      "text/plain": [
       "{'memory': None,\n",
       " 'steps': [('cv',\n",
       "   CountVectorizer(tokenizer=<function tokenize at 0x11b574e50>)),\n",
       "  ('transformer', TfidfTransformer()),\n",
       "  ('ada',\n",
       "   MultiOutputClassifier(estimator=GradientBoostingClassifier(learning_rate=1.0,\n",
       "                                                              max_depth=1,\n",
       "                                                              random_state=42)))],\n",
       " 'verbose': False,\n",
       " 'cv': CountVectorizer(tokenizer=<function tokenize at 0x11b574e50>),\n",
       " 'transformer': TfidfTransformer(),\n",
       " 'ada': MultiOutputClassifier(estimator=GradientBoostingClassifier(learning_rate=1.0,\n",
       "                                                            max_depth=1,\n",
       "                                                            random_state=42)),\n",
       " 'cv__analyzer': 'word',\n",
       " 'cv__binary': False,\n",
       " 'cv__decode_error': 'strict',\n",
       " 'cv__dtype': numpy.int64,\n",
       " 'cv__encoding': 'utf-8',\n",
       " 'cv__input': 'content',\n",
       " 'cv__lowercase': True,\n",
       " 'cv__max_df': 1.0,\n",
       " 'cv__max_features': None,\n",
       " 'cv__min_df': 1,\n",
       " 'cv__ngram_range': (1, 1),\n",
       " 'cv__preprocessor': None,\n",
       " 'cv__stop_words': None,\n",
       " 'cv__strip_accents': None,\n",
       " 'cv__token_pattern': '(?u)\\\\b\\\\w\\\\w+\\\\b',\n",
       " 'cv__tokenizer': <function __main__.tokenize(text)>,\n",
       " 'cv__vocabulary': None,\n",
       " 'transformer__norm': 'l2',\n",
       " 'transformer__smooth_idf': True,\n",
       " 'transformer__sublinear_tf': False,\n",
       " 'transformer__use_idf': True,\n",
       " 'ada__estimator__ccp_alpha': 0.0,\n",
       " 'ada__estimator__criterion': 'friedman_mse',\n",
       " 'ada__estimator__init': None,\n",
       " 'ada__estimator__learning_rate': 1.0,\n",
       " 'ada__estimator__loss': 'deviance',\n",
       " 'ada__estimator__max_depth': 1,\n",
       " 'ada__estimator__max_features': None,\n",
       " 'ada__estimator__max_leaf_nodes': None,\n",
       " 'ada__estimator__min_impurity_decrease': 0.0,\n",
       " 'ada__estimator__min_impurity_split': None,\n",
       " 'ada__estimator__min_samples_leaf': 1,\n",
       " 'ada__estimator__min_samples_split': 2,\n",
       " 'ada__estimator__min_weight_fraction_leaf': 0.0,\n",
       " 'ada__estimator__n_estimators': 100,\n",
       " 'ada__estimator__n_iter_no_change': None,\n",
       " 'ada__estimator__random_state': 42,\n",
       " 'ada__estimator__subsample': 1.0,\n",
       " 'ada__estimator__tol': 0.0001,\n",
       " 'ada__estimator__validation_fraction': 0.1,\n",
       " 'ada__estimator__verbose': 0,\n",
       " 'ada__estimator__warm_start': False,\n",
       " 'ada__estimator': GradientBoostingClassifier(learning_rate=1.0, max_depth=1, random_state=42),\n",
       " 'ada__n_jobs': None}"
      ]
     },
     "execution_count": 19,
     "metadata": {},
     "output_type": "execute_result"
    }
   ],
   "source": [
    "pipeline.get_params()"
   ]
  },
  {
   "cell_type": "code",
   "execution_count": 20,
   "metadata": {},
   "outputs": [],
   "source": [
    "from sklearn.model_selection import GridSearchCV"
   ]
  },
  {
   "cell_type": "code",
   "execution_count": 22,
   "metadata": {},
   "outputs": [],
   "source": [
    "pipeline = Pipeline([\n",
    "    (\"cv\", CountVectorizer(tokenizer=tokenize)),\n",
    "    (\"transformer\", TfidfTransformer()),\n",
    "    (\"gboost\", MultiOutputClassifier(GradientBoostingClassifier(n_estimators=100, random_state=42)))\n",
    "])"
   ]
  },
  {
   "cell_type": "code",
   "execution_count": 31,
   "metadata": {},
   "outputs": [],
   "source": [
    "param_grid = {\n",
    "    \"cv__max_df\": [0.5],\n",
    "    \"gboost__estimator__learning_rate\": [0.1, 1.0],\n",
    "    \"gboost__estimator__max_depth\": [1, 3]\n",
    "}"
   ]
  },
  {
   "cell_type": "code",
   "execution_count": 32,
   "metadata": {},
   "outputs": [],
   "source": [
    "cv = GridSearchCV(pipeline, param_grid=param_grid, scoring=\"f1_micro\")"
   ]
  },
  {
   "cell_type": "code",
   "execution_count": 33,
   "metadata": {},
   "outputs": [
    {
     "data": {
      "text/plain": [
       "GridSearchCV(estimator=Pipeline(steps=[('cv',\n",
       "                                        CountVectorizer(tokenizer=<function tokenize at 0x11b574e50>)),\n",
       "                                       ('transformer', TfidfTransformer()),\n",
       "                                       ('gboost',\n",
       "                                        MultiOutputClassifier(estimator=GradientBoostingClassifier(random_state=42)))]),\n",
       "             param_grid={'cv__max_df': [0.5],\n",
       "                         'gboost__estimator__learning_rate': [0.1, 1.0],\n",
       "                         'gboost__estimator__max_depth': [1, 3]},\n",
       "             scoring='f1_micro')"
      ]
     },
     "execution_count": 33,
     "metadata": {},
     "output_type": "execute_result"
    }
   ],
   "source": [
    "cv.fit(X_train, Y_train)"
   ]
  },
  {
   "cell_type": "markdown",
   "metadata": {},
   "source": [
    "### 7. Test your model\n",
    "Show the accuracy, precision, and recall of the tuned model.  \n",
    "\n",
    "Since this project focuses on code quality, process, and  pipelines, there is no minimum performance metric needed to pass. However, make sure to fine tune your models for accuracy, precision and recall to make your project stand out - especially for your portfolio!"
   ]
  },
  {
   "cell_type": "code",
   "execution_count": 34,
   "metadata": {},
   "outputs": [
    {
     "data": {
      "text/plain": [
       "{'cv__max_df': 0.5,\n",
       " 'gboost__estimator__learning_rate': 1.0,\n",
       " 'gboost__estimator__max_depth': 1}"
      ]
     },
     "execution_count": 34,
     "metadata": {},
     "output_type": "execute_result"
    }
   ],
   "source": [
    "cv.best_params_"
   ]
  },
  {
   "cell_type": "code",
   "execution_count": 35,
   "metadata": {},
   "outputs": [],
   "source": [
    "Y_preds = cv.predict(X_test)"
   ]
  },
  {
   "cell_type": "code",
   "execution_count": 36,
   "metadata": {},
   "outputs": [],
   "source": [
    "\n",
    "def generate_report(filename):\n",
    "    report_dict = {}\n",
    "    for idx, output in enumerate(output_labels):\n",
    "        metrics_dict = get_metrics(Y_test[:,idx], Y_preds[:,idx])\n",
    "        report_dict[output] = metrics_dict\n",
    "        \n",
    "    with open(f'{filename}.json', 'w', encoding=\"utf-8\") as fhand:\n",
    "        json.dump(report_dict, fhand)\n",
    "    \n",
    "    for k, v in report_dict.items():\n",
    "        print(f\"\"\"category: {k} \\n accuracy: {v['accuracy']:.4f}, precision: {v['1']['precision']:.4f}, recall: {v['1']['recall']:.4f}, f-score: {v['1']['f1-score']:.4f}\"\"\")"
   ]
  },
  {
   "cell_type": "code",
   "execution_count": 37,
   "metadata": {},
   "outputs": [
    {
     "name": "stdout",
     "output_type": "stream",
     "text": [
      "category: related \n",
      " accuracy: 0.7988, precision: 0.8243, recall: 0.9379, f-score: 0.8775\n",
      "category: request \n",
      " accuracy: 0.8809, precision: 0.7496, recall: 0.5000, f-score: 0.5999\n",
      "category: offer \n",
      " accuracy: 0.9946, precision: 0.0000, recall: 0.0000, f-score: 0.0000\n",
      "category: aid_related \n",
      " accuracy: 0.7434, precision: 0.7362, recall: 0.6044, f-score: 0.6638\n",
      "category: medical_help \n",
      " accuracy: 0.9206, precision: 0.6867, recall: 0.1284, f-score: 0.2163\n",
      "category: medical_products \n",
      " accuracy: 0.9544, precision: 0.5344, recall: 0.2846, f-score: 0.3714\n",
      "category: search_and_rescue \n",
      " accuracy: 0.9735, precision: 0.0000, recall: 0.0000, f-score: 0.0000\n",
      "category: security \n",
      " accuracy: 0.9835, precision: 0.0000, recall: 0.0000, f-score: 0.0000\n",
      "category: military \n",
      " accuracy: 0.9677, precision: 0.0000, recall: 0.0000, f-score: 0.0000\n",
      "category: water \n",
      " accuracy: 0.9486, precision: 0.5462, recall: 0.8360, f-score: 0.6607\n",
      "category: food \n",
      " accuracy: 0.9433, precision: 0.7945, recall: 0.6779, f-score: 0.7316\n",
      "category: shelter \n",
      " accuracy: 0.9288, precision: 0.7061, recall: 0.3470, f-score: 0.4653\n",
      "category: clothing \n",
      " accuracy: 0.9900, precision: 0.7500, recall: 0.4737, f-score: 0.5806\n",
      "category: money \n",
      " accuracy: 0.9729, precision: 1.0000, recall: 0.0070, f-score: 0.0140\n",
      "category: missing_people \n",
      " accuracy: 0.9902, precision: 0.6842, recall: 0.2241, f-score: 0.3377\n",
      "category: refugees \n",
      " accuracy: 0.9677, precision: 0.0000, recall: 0.0000, f-score: 0.0000\n",
      "category: death \n",
      " accuracy: 0.9571, precision: 0.4762, recall: 0.1364, f-score: 0.2120\n",
      "category: other_aid \n",
      " accuracy: 0.8538, precision: 0.4008, recall: 0.1362, f-score: 0.2034\n",
      "category: infrastructure_related \n",
      " accuracy: 0.9321, precision: 0.5200, recall: 0.0367, f-score: 0.0686\n",
      "category: transport \n",
      " accuracy: 0.9515, precision: 0.4561, recall: 0.1053, f-score: 0.1711\n",
      "category: buildings \n",
      " accuracy: 0.9471, precision: 0.4235, recall: 0.1374, f-score: 0.2075\n",
      "category: electricity \n",
      " accuracy: 0.9792, precision: 0.0000, recall: 0.0000, f-score: 0.0000\n",
      "category: tools \n",
      " accuracy: 0.9940, precision: 0.0000, recall: 0.0000, f-score: 0.0000\n",
      "category: hospitals \n",
      " accuracy: 0.9892, precision: 0.0000, recall: 0.0000, f-score: 0.0000\n",
      "category: shops \n",
      " accuracy: 0.9927, precision: 0.0000, recall: 0.0000, f-score: 0.0000\n",
      "category: aid_centers \n",
      " accuracy: 0.9744, precision: 0.1084, recall: 0.1324, f-score: 0.1192\n",
      "category: other_infrastructure \n",
      " accuracy: 0.9556, precision: 0.5200, recall: 0.0560, f-score: 0.1012\n",
      "category: weather_related \n",
      " accuracy: 0.8619, precision: 0.8140, recall: 0.6561, f-score: 0.7266\n",
      "category: floods \n",
      " accuracy: 0.9442, precision: 0.7928, recall: 0.4190, f-score: 0.5483\n",
      "category: storm \n",
      " accuracy: 0.9338, precision: 0.7909, recall: 0.4442, f-score: 0.5689\n",
      "category: fire \n",
      " accuracy: 0.9896, precision: 1.0000, recall: 0.0182, f-score: 0.0357\n",
      "category: earthquake \n",
      " accuracy: 0.9698, precision: 0.9000, recall: 0.7608, f-score: 0.8246\n",
      "category: cold \n",
      " accuracy: 0.9838, precision: 0.7333, recall: 0.2245, f-score: 0.3438\n",
      "category: other_weather \n",
      " accuracy: 0.9544, precision: 0.0000, recall: 0.0000, f-score: 0.0000\n",
      "category: direct_report \n",
      " accuracy: 0.8382, precision: 0.6587, recall: 0.3987, f-score: 0.4967\n"
     ]
    }
   ],
   "source": [
    "filename = 'model_gboost_gridsearchcv'\n",
    "generate_report(filename)"
   ]
  },
  {
   "cell_type": "markdown",
   "metadata": {},
   "source": [
    "### 8. Try improving your model further. Here are a few ideas:\n",
    "* try other machine learning algorithms\n",
    "* add other features besides the TF-IDF"
   ]
  },
  {
   "cell_type": "code",
   "execution_count": null,
   "metadata": {},
   "outputs": [],
   "source": []
  },
  {
   "cell_type": "markdown",
   "metadata": {},
   "source": [
    "### 9. Export your model as a pickle file"
   ]
  },
  {
   "cell_type": "code",
   "execution_count": 38,
   "metadata": {},
   "outputs": [],
   "source": [
    "import pickle\n",
    "\n",
    "pickle.dump(cv, open(f'{filename}.pkl','wb'))"
   ]
  },
  {
   "cell_type": "markdown",
   "metadata": {},
   "source": [
    "### 10. Use this notebook to complete `train.py`\n",
    "Use the template file attached in the Resources folder to write a script that runs the steps above to create a database and export a model based on a new dataset specified by the user."
   ]
  },
  {
   "cell_type": "code",
   "execution_count": null,
   "metadata": {},
   "outputs": [],
   "source": []
  }
 ],
 "metadata": {
  "kernelspec": {
   "display_name": "Python 3 (ipykernel)",
   "language": "python",
   "name": "python3"
  },
  "language_info": {
   "codemirror_mode": {
    "name": "ipython",
    "version": 3
   },
   "file_extension": ".py",
   "mimetype": "text/x-python",
   "name": "python",
   "nbconvert_exporter": "python",
   "pygments_lexer": "ipython3",
   "version": "3.9.1"
  }
 },
 "nbformat": 4,
 "nbformat_minor": 4
}
