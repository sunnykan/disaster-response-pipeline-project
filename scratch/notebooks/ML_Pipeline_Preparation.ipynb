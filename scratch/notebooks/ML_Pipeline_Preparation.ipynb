{
 "cells": [
  {
   "cell_type": "markdown",
   "metadata": {},
   "source": [
    "# ML Pipeline Preparation\n",
    "Follow the instructions below to help you create your ML pipeline.\n",
    "### 1. Import libraries and load data from database.\n",
    "- Import Python libraries\n",
    "- Load dataset from database with [`read_sql_table`](https://pandas.pydata.org/pandas-docs/stable/generated/pandas.read_sql_table.html)\n",
    "- Define feature and target variables X and Y"
   ]
  },
  {
   "cell_type": "code",
   "execution_count": 3,
   "metadata": {},
   "outputs": [],
   "source": [
    "# import libraries\n",
    "from sqlalchemy import create_engine\n",
    "import pandas as pd\n",
    "from pathlib import Path\n",
    "import re\n",
    "import numpy as np\n",
    "import json\n",
    "import pickle\n",
    "\n",
    "from sklearn.model_selection import train_test_split\n",
    "from sklearn.feature_extraction.text import CountVectorizer\n",
    "from sklearn.feature_extraction.text import TfidfTransformer\n",
    "from sklearn.multioutput import MultiOutputClassifier\n",
    "from sklearn.ensemble import AdaBoostClassifier\n",
    "from sklearn.pipeline import Pipeline\n",
    "from sklearn.metrics import classification_report\n",
    "from sklearn.model_selection import GridSearchCV\n",
    "\n",
    "from nltk.stem.wordnet import WordNetLemmatizer\n",
    "from nltk.tokenize import word_tokenize\n",
    "from nltk.corpus import stopwords\n",
    "from nltk.corpus import words"
   ]
  },
  {
   "cell_type": "code",
   "execution_count": 4,
   "metadata": {},
   "outputs": [
    {
     "data": {
      "text/plain": [
       "(25991, 38)"
      ]
     },
     "execution_count": 4,
     "metadata": {},
     "output_type": "execute_result"
    }
   ],
   "source": [
    "# load data from database\n",
    "repo = Path.cwd()\n",
    "path = repo / 'data' / 'DisasterResponse.db'\n",
    "\n",
    "engine = create_engine(f'sqlite:///{path}')\n",
    "df = pd.read_sql(\"select * from Message\", con=engine)\n",
    "df.shape"
   ]
  },
  {
   "cell_type": "markdown",
   "metadata": {},
   "source": [
    "#check imbalance in target\n",
    "See explore_data.ipynb"
   ]
  },
  {
   "cell_type": "markdown",
   "metadata": {},
   "source": [
    "### 2. Write a tokenization function to process your text data"
   ]
  },
  {
   "cell_type": "code",
   "execution_count": 5,
   "metadata": {},
   "outputs": [],
   "source": [
    "stop_words = stopwords.words(\"english\")\n",
    "vocab = set(words.words())\n",
    "vocab = vocab - set(stop_words)\n",
    "lemmatizer = WordNetLemmatizer()\n",
    "words_set = {lemmatizer.lemmatize(word) for word in vocab}"
   ]
  },
  {
   "cell_type": "code",
   "execution_count": 6,
   "metadata": {},
   "outputs": [],
   "source": [
    "def tokenize(text):\n",
    "    \"\"\"TO DO\n",
    "    \"\"\"\n",
    "    \n",
    "    text = re.sub(r\"[^a-zA-Z]\", \" \", text.lower())\n",
    "    tokens = word_tokenize(text)\n",
    "    lemmatizer = WordNetLemmatizer()\n",
    "    \n",
    "    clean_tokens = [lemmatizer.lemmatize(token).strip() for token in tokens if token in words_set]\n",
    "    \n",
    "    return clean_tokens"
   ]
  },
  {
   "cell_type": "markdown",
   "metadata": {},
   "source": [
    "### 3. Build a machine learning pipeline\n",
    "This machine pipeline should take in the `message` column as input and output classification results on the other 36 categories in the dataset. You may find the [MultiOutputClassifier](http://scikit-learn.org/stable/modules/generated/sklearn.multioutput.MultiOutputClassifier.html) helpful for predicting multiple target variables."
   ]
  },
  {
   "cell_type": "code",
   "execution_count": 37,
   "metadata": {},
   "outputs": [],
   "source": [
    "pipeline = Pipeline([\n",
    "    (\"cv\", CountVectorizer(tokenizer=tokenize)),\n",
    "    (\"transformer\", TfidfTransformer()),\n",
    "    (\"ada\", MultiOutputClassifier(AdaBoostClassifier(n_estimators=100)))\n",
    "])"
   ]
  },
  {
   "cell_type": "markdown",
   "metadata": {},
   "source": [
    "### 4. Train pipeline\n",
    "- Split data into train and test sets\n",
    "- Train pipeline"
   ]
  },
  {
   "cell_type": "code",
   "execution_count": 38,
   "metadata": {},
   "outputs": [
    {
     "data": {
      "text/plain": [
       "((20792,), (5199,), (20792, 35), (5199, 35))"
      ]
     },
     "execution_count": 38,
     "metadata": {},
     "output_type": "execute_result"
    }
   ],
   "source": [
    "\n",
    "X = df['message'].values\n",
    "Y = df.iloc[:, :-3].values\n",
    "\n",
    "X_train, X_test, Y_train, Y_test = train_test_split(X, Y, test_size=0.2, random_state=42)\n",
    "X_train.shape, X_test.shape, Y_train.shape, Y_test.shape"
   ]
  },
  {
   "cell_type": "code",
   "execution_count": 39,
   "metadata": {},
   "outputs": [
    {
     "data": {
      "text/plain": [
       "Pipeline(steps=[('cv',\n",
       "                 CountVectorizer(tokenizer=<function tokenize at 0x1209953a0>)),\n",
       "                ('transformer', TfidfTransformer()),\n",
       "                ('ada',\n",
       "                 MultiOutputClassifier(estimator=AdaBoostClassifier(n_estimators=100)))])"
      ]
     },
     "execution_count": 39,
     "metadata": {},
     "output_type": "execute_result"
    }
   ],
   "source": [
    "pipeline.fit(X_train, Y_train)\n"
   ]
  },
  {
   "cell_type": "markdown",
   "metadata": {},
   "source": [
    "### 5. Test your model\n",
    "Report the f1 score, precision and recall for each output category of the dataset. You can do this by iterating through the columns and calling sklearn's `classification_report` on each."
   ]
  },
  {
   "cell_type": "code",
   "execution_count": 40,
   "metadata": {},
   "outputs": [],
   "source": [
    "Y_preds = pipeline.predict(X_test)\n",
    "output_labels = list(df.iloc[:, :-3].columns)"
   ]
  },
  {
   "cell_type": "code",
   "execution_count": 41,
   "metadata": {},
   "outputs": [],
   "source": [
    "def get_metrics(y_test, y_pred):\n",
    "    \"\"\"TO DO\n",
    "    \"\"\"\n",
    "    cr = classification_report(y_test, y_pred, zero_division=0, output_dict=True)\n",
    "    return cr"
   ]
  },
  {
   "cell_type": "code",
   "execution_count": 42,
   "metadata": {},
   "outputs": [
    {
     "name": "stdout",
     "output_type": "stream",
     "text": [
      "category: related \n",
      " accuracy: 0.8000, precision: 0.8137, recall: 0.9592, f-score: 0.8805\n",
      "category: request \n",
      " accuracy: 0.8821, precision: 0.7603, recall: 0.4957, f-score: 0.6001\n",
      "category: offer \n",
      " accuracy: 0.9942, precision: 0.0000, recall: 0.0000, f-score: 0.0000\n",
      "category: aid_related \n",
      " accuracy: 0.7403, precision: 0.7392, recall: 0.5879, f-score: 0.6549\n",
      "category: medical_help \n",
      " accuracy: 0.9254, precision: 0.6429, recall: 0.2838, f-score: 0.3937\n",
      "category: medical_products \n",
      " accuracy: 0.9556, precision: 0.5701, recall: 0.2480, f-score: 0.3456\n",
      "category: search_and_rescue \n",
      " accuracy: 0.9731, precision: 0.4750, recall: 0.1377, f-score: 0.2135\n",
      "category: security \n",
      " accuracy: 0.9815, precision: 0.0833, recall: 0.0116, f-score: 0.0204\n",
      "category: military \n",
      " accuracy: 0.9648, precision: 0.4227, recall: 0.2440, f-score: 0.3094\n",
      "category: water \n",
      " accuracy: 0.9644, precision: 0.7188, recall: 0.6656, f-score: 0.6912\n",
      "category: food \n",
      " accuracy: 0.9452, precision: 0.8392, recall: 0.6425, f-score: 0.7278\n",
      "category: shelter \n",
      " accuracy: 0.9333, precision: 0.7407, recall: 0.3879, f-score: 0.5092\n",
      "category: clothing \n",
      " accuracy: 0.9885, precision: 0.6905, recall: 0.3816, f-score: 0.4915\n",
      "category: money \n",
      " accuracy: 0.9750, precision: 0.6000, recall: 0.2535, f-score: 0.3564\n",
      "category: missing_people \n",
      " accuracy: 0.9898, precision: 0.6923, recall: 0.1552, f-score: 0.2535\n",
      "category: refugees \n",
      " accuracy: 0.9654, precision: 0.3696, recall: 0.1012, f-score: 0.1589\n",
      "category: death \n",
      " accuracy: 0.9598, precision: 0.5524, recall: 0.2636, f-score: 0.3569\n",
      "category: other_aid \n",
      " accuracy: 0.8619, precision: 0.4831, recall: 0.1208, f-score: 0.1933\n",
      "category: infrastructure_related \n",
      " accuracy: 0.9302, precision: 0.4082, recall: 0.0565, f-score: 0.0993\n",
      "category: transport \n",
      " accuracy: 0.9533, precision: 0.5370, recall: 0.1174, f-score: 0.1927\n",
      "category: buildings \n",
      " accuracy: 0.9485, precision: 0.4651, recall: 0.1527, f-score: 0.2299\n",
      "category: electricity \n",
      " accuracy: 0.9775, precision: 0.4000, recall: 0.1667, f-score: 0.2353\n",
      "category: tools \n",
      " accuracy: 0.9937, precision: 0.0000, recall: 0.0000, f-score: 0.0000\n",
      "category: hospitals \n",
      " accuracy: 0.9877, precision: 0.2778, recall: 0.0893, f-score: 0.1351\n",
      "category: shops \n",
      " accuracy: 0.9935, precision: 0.0000, recall: 0.0000, f-score: 0.0000\n",
      "category: aid_centers \n",
      " accuracy: 0.9862, precision: 0.3000, recall: 0.0441, f-score: 0.0769\n",
      "category: other_infrastructure \n",
      " accuracy: 0.9513, precision: 0.3019, recall: 0.0690, f-score: 0.1123\n",
      "category: weather_related \n",
      " accuracy: 0.8609, precision: 0.8203, recall: 0.6437, f-score: 0.7214\n",
      "category: floods \n",
      " accuracy: 0.9458, precision: 0.7674, recall: 0.4714, f-score: 0.5841\n",
      "category: storm \n",
      " accuracy: 0.9269, precision: 0.7148, recall: 0.4266, f-score: 0.5343\n",
      "category: fire \n",
      " accuracy: 0.9885, precision: 0.3684, recall: 0.1273, f-score: 0.1892\n",
      "category: earthquake \n",
      " accuracy: 0.9631, precision: 0.8547, recall: 0.7278, f-score: 0.7862\n",
      "category: cold \n",
      " accuracy: 0.9835, precision: 0.6500, recall: 0.2653, f-score: 0.3768\n",
      "category: other_weather \n",
      " accuracy: 0.9527, precision: 0.4416, recall: 0.1435, f-score: 0.2166\n",
      "category: direct_report \n",
      " accuracy: 0.8436, precision: 0.6875, recall: 0.4015, f-score: 0.5070\n"
     ]
    }
   ],
   "source": [
    "def generate_report():\n",
    "    report_dict = {}\n",
    "    for idx, output in enumerate(output_labels):\n",
    "        metrics_dict = get_metrics(Y_test[:,idx], Y_preds[:,idx])\n",
    "        report_dict[output] = metrics_dict\n",
    "        \n",
    "    with open('ada_model_results.json', 'w', encoding=\"utf-8\") as fhand:\n",
    "        json.dump(report_dict, fhand)\n",
    "    \n",
    "    for k, v in report_dict.items():\n",
    "        print(f\"\"\"category: {k} \\n accuracy: {v['accuracy']:.4f}, precision: {v['1']['precision']:.4f}, recall: {v['1']['recall']:.4f}, f-score: {v['1']['f1-score']:.4f}\"\"\")\n",
    "\n",
    "generate_report()"
   ]
  },
  {
   "cell_type": "markdown",
   "metadata": {
    "tags": []
   },
   "source": [
    "### 6. Improve your model\n",
    "Use grid search to find better parameters. "
   ]
  },
  {
   "cell_type": "code",
   "execution_count": 43,
   "metadata": {},
   "outputs": [
    {
     "data": {
      "text/plain": [
       "{'memory': None,\n",
       " 'steps': [('cv',\n",
       "   CountVectorizer(tokenizer=<function tokenize at 0x1209953a0>)),\n",
       "  ('transformer', TfidfTransformer()),\n",
       "  ('ada',\n",
       "   MultiOutputClassifier(estimator=AdaBoostClassifier(n_estimators=100)))],\n",
       " 'verbose': False,\n",
       " 'cv': CountVectorizer(tokenizer=<function tokenize at 0x1209953a0>),\n",
       " 'transformer': TfidfTransformer(),\n",
       " 'ada': MultiOutputClassifier(estimator=AdaBoostClassifier(n_estimators=100)),\n",
       " 'cv__analyzer': 'word',\n",
       " 'cv__binary': False,\n",
       " 'cv__decode_error': 'strict',\n",
       " 'cv__dtype': numpy.int64,\n",
       " 'cv__encoding': 'utf-8',\n",
       " 'cv__input': 'content',\n",
       " 'cv__lowercase': True,\n",
       " 'cv__max_df': 1.0,\n",
       " 'cv__max_features': None,\n",
       " 'cv__min_df': 1,\n",
       " 'cv__ngram_range': (1, 1),\n",
       " 'cv__preprocessor': None,\n",
       " 'cv__stop_words': None,\n",
       " 'cv__strip_accents': None,\n",
       " 'cv__token_pattern': '(?u)\\\\b\\\\w\\\\w+\\\\b',\n",
       " 'cv__tokenizer': <function __main__.tokenize(text)>,\n",
       " 'cv__vocabulary': None,\n",
       " 'transformer__norm': 'l2',\n",
       " 'transformer__smooth_idf': True,\n",
       " 'transformer__sublinear_tf': False,\n",
       " 'transformer__use_idf': True,\n",
       " 'ada__estimator__algorithm': 'SAMME.R',\n",
       " 'ada__estimator__base_estimator': None,\n",
       " 'ada__estimator__learning_rate': 1.0,\n",
       " 'ada__estimator__n_estimators': 100,\n",
       " 'ada__estimator__random_state': None,\n",
       " 'ada__estimator': AdaBoostClassifier(n_estimators=100),\n",
       " 'ada__n_jobs': None}"
      ]
     },
     "execution_count": 43,
     "metadata": {},
     "output_type": "execute_result"
    }
   ],
   "source": [
    "pipeline.get_params()"
   ]
  },
  {
   "cell_type": "code",
   "execution_count": 45,
   "metadata": {},
   "outputs": [
    {
     "data": {
      "text/plain": [
       "sklearn.pipeline.Pipeline"
      ]
     },
     "execution_count": 45,
     "metadata": {},
     "output_type": "execute_result"
    }
   ],
   "source": [
    "type(pipeline)"
   ]
  },
  {
   "cell_type": "code",
   "execution_count": 24,
   "metadata": {},
   "outputs": [],
   "source": [
    "from sklearn.model_selection import GridSearchCV"
   ]
  },
  {
   "cell_type": "code",
   "execution_count": 27,
   "metadata": {},
   "outputs": [],
   "source": [
    "pipeline = Pipeline([\n",
    "    (\"cv\", CountVectorizer(tokenizer=tokenize)),\n",
    "    (\"transformer\", TfidfTransformer()),\n",
    "    (\"ada\", MultiOutputClassifier(AdaBoostClassifier(n_estimators=100, random_state=42)))\n",
    "])\n",
    "\n",
    "param_grid = {\n",
    "    \"cv__max_df\": (0.5, 1.0),\n",
    "    \"ada__estimator__learning_rate\": [0.5, 1.0],\n",
    "}\n",
    "\n",
    "cv = GridSearchCV(pipeline, param_grid=param_grid, scoring=\"f1_micro\")"
   ]
  },
  {
   "cell_type": "code",
   "execution_count": 28,
   "metadata": {},
   "outputs": [
    {
     "data": {
      "text/plain": [
       "GridSearchCV(estimator=Pipeline(steps=[('cv',\n",
       "                                        CountVectorizer(tokenizer=<function tokenize at 0x1209953a0>)),\n",
       "                                       ('transformer', TfidfTransformer()),\n",
       "                                       ('ada',\n",
       "                                        MultiOutputClassifier(estimator=AdaBoostClassifier(n_estimators=100,\n",
       "                                                                                           random_state=42)))]),\n",
       "             param_grid={'ada__estimator__learning_rate': [0.5, 1.0],\n",
       "                         'cv__max_df': (0.5, 1.0)},\n",
       "             scoring='f1_micro')"
      ]
     },
     "execution_count": 28,
     "metadata": {},
     "output_type": "execute_result"
    }
   ],
   "source": [
    "cv.fit(X_train, Y_train)"
   ]
  },
  {
   "cell_type": "markdown",
   "metadata": {},
   "source": [
    "### 7. Test your model\n",
    "Show the accuracy, precision, and recall of the tuned model.  \n",
    "\n",
    "Since this project focuses on code quality, process, and  pipelines, there is no minimum performance metric needed to pass. However, make sure to fine tune your models for accuracy, precision and recall to make your project stand out - especially for your portfolio!"
   ]
  },
  {
   "cell_type": "code",
   "execution_count": 29,
   "metadata": {},
   "outputs": [
    {
     "data": {
      "text/plain": [
       "{'ada__estimator__learning_rate': 1.0, 'cv__max_df': 0.5}"
      ]
     },
     "execution_count": 29,
     "metadata": {},
     "output_type": "execute_result"
    }
   ],
   "source": [
    "cv.best_params_"
   ]
  },
  {
   "cell_type": "code",
   "execution_count": 30,
   "metadata": {},
   "outputs": [],
   "source": [
    "Y_preds = cv.predict(X_test)"
   ]
  },
  {
   "cell_type": "code",
   "execution_count": 35,
   "metadata": {},
   "outputs": [],
   "source": [
    "def generate_report():\n",
    "    report_dict = {}\n",
    "    for idx, output in enumerate(output_labels):\n",
    "        metrics_dict = get_metrics(Y_test[:,idx], Y_preds[:,idx])\n",
    "        report_dict[output] = metrics_dict\n",
    "        \n",
    "    with open('ada_gridsearchcv_results.json', 'w', encoding=\"utf-8\") as fhand:\n",
    "        json.dump(report_dict, fhand)\n",
    "    \n",
    "    for k, v in report_dict.items():\n",
    "        print(f\"\"\"category: {k} \\n accuracy: {v['accuracy']:.4f}, precision: {v['1']['precision']:.4f}, recall: {v['1']['recall']:.4f}, f-score: {v['1']['f1-score']:.4f}\"\"\")"
   ]
  },
  {
   "cell_type": "code",
   "execution_count": 36,
   "metadata": {},
   "outputs": [
    {
     "name": "stdout",
     "output_type": "stream",
     "text": [
      "category: related \n",
      " accuracy: 0.8000, precision: 0.8137, recall: 0.9592, f-score: 0.8805\n",
      "category: request \n",
      " accuracy: 0.8821, precision: 0.7603, recall: 0.4957, f-score: 0.6001\n",
      "category: offer \n",
      " accuracy: 0.9940, precision: 0.0000, recall: 0.0000, f-score: 0.0000\n",
      "category: aid_related \n",
      " accuracy: 0.7403, precision: 0.7392, recall: 0.5879, f-score: 0.6549\n",
      "category: medical_help \n",
      " accuracy: 0.9254, precision: 0.6429, recall: 0.2838, f-score: 0.3937\n",
      "category: medical_products \n",
      " accuracy: 0.9556, precision: 0.5701, recall: 0.2480, f-score: 0.3456\n",
      "category: search_and_rescue \n",
      " accuracy: 0.9731, precision: 0.4750, recall: 0.1377, f-score: 0.2135\n",
      "category: security \n",
      " accuracy: 0.9815, precision: 0.0833, recall: 0.0116, f-score: 0.0204\n",
      "category: military \n",
      " accuracy: 0.9648, precision: 0.4227, recall: 0.2440, f-score: 0.3094\n",
      "category: water \n",
      " accuracy: 0.9646, precision: 0.7213, recall: 0.6656, f-score: 0.6923\n",
      "category: food \n",
      " accuracy: 0.9452, precision: 0.8392, recall: 0.6425, f-score: 0.7278\n",
      "category: shelter \n",
      " accuracy: 0.9333, precision: 0.7407, recall: 0.3879, f-score: 0.5092\n",
      "category: clothing \n",
      " accuracy: 0.9885, precision: 0.6905, recall: 0.3816, f-score: 0.4915\n",
      "category: money \n",
      " accuracy: 0.9750, precision: 0.6000, recall: 0.2535, f-score: 0.3564\n",
      "category: missing_people \n",
      " accuracy: 0.9898, precision: 0.6923, recall: 0.1552, f-score: 0.2535\n",
      "category: refugees \n",
      " accuracy: 0.9654, precision: 0.3696, recall: 0.1012, f-score: 0.1589\n",
      "category: death \n",
      " accuracy: 0.9598, precision: 0.5524, recall: 0.2636, f-score: 0.3569\n",
      "category: other_aid \n",
      " accuracy: 0.8619, precision: 0.4831, recall: 0.1208, f-score: 0.1933\n",
      "category: infrastructure_related \n",
      " accuracy: 0.9302, precision: 0.4082, recall: 0.0565, f-score: 0.0993\n",
      "category: transport \n",
      " accuracy: 0.9533, precision: 0.5370, recall: 0.1174, f-score: 0.1927\n",
      "category: buildings \n",
      " accuracy: 0.9485, precision: 0.4651, recall: 0.1527, f-score: 0.2299\n",
      "category: electricity \n",
      " accuracy: 0.9775, precision: 0.4000, recall: 0.1667, f-score: 0.2353\n",
      "category: tools \n",
      " accuracy: 0.9933, precision: 0.0000, recall: 0.0000, f-score: 0.0000\n",
      "category: hospitals \n",
      " accuracy: 0.9877, precision: 0.2778, recall: 0.0893, f-score: 0.1351\n",
      "category: shops \n",
      " accuracy: 0.9940, precision: 0.0000, recall: 0.0000, f-score: 0.0000\n",
      "category: aid_centers \n",
      " accuracy: 0.9862, precision: 0.3000, recall: 0.0441, f-score: 0.0769\n",
      "category: other_infrastructure \n",
      " accuracy: 0.9513, precision: 0.3019, recall: 0.0690, f-score: 0.1123\n",
      "category: weather_related \n",
      " accuracy: 0.8609, precision: 0.8203, recall: 0.6437, f-score: 0.7214\n",
      "category: floods \n",
      " accuracy: 0.9458, precision: 0.7674, recall: 0.4714, f-score: 0.5841\n",
      "category: storm \n",
      " accuracy: 0.9269, precision: 0.7148, recall: 0.4266, f-score: 0.5343\n",
      "category: fire \n",
      " accuracy: 0.9885, precision: 0.3684, recall: 0.1273, f-score: 0.1892\n",
      "category: earthquake \n",
      " accuracy: 0.9631, precision: 0.8547, recall: 0.7278, f-score: 0.7862\n",
      "category: cold \n",
      " accuracy: 0.9837, precision: 0.6667, recall: 0.2653, f-score: 0.3796\n",
      "category: other_weather \n",
      " accuracy: 0.9527, precision: 0.4416, recall: 0.1435, f-score: 0.2166\n",
      "category: direct_report \n",
      " accuracy: 0.8436, precision: 0.6875, recall: 0.4015, f-score: 0.5070\n"
     ]
    }
   ],
   "source": [
    "generate_report()"
   ]
  },
  {
   "cell_type": "markdown",
   "metadata": {},
   "source": [
    "### 8. Try improving your model further. Here are a few ideas:\n",
    "* try other machine learning algorithms\n",
    "* add other features besides the TF-IDF"
   ]
  },
  {
   "cell_type": "code",
   "execution_count": null,
   "metadata": {},
   "outputs": [],
   "source": []
  },
  {
   "cell_type": "markdown",
   "metadata": {},
   "source": [
    "### 9. Export your model as a pickle file"
   ]
  },
  {
   "cell_type": "code",
   "execution_count": 44,
   "metadata": {},
   "outputs": [],
   "source": [
    "import pickle\n",
    "\n",
    "pickle.dump(cv, open('model_ada_gridsearchcv.pkl','wb'))\n"
   ]
  },
  {
   "cell_type": "markdown",
   "metadata": {},
   "source": [
    "### 10. Use this notebook to complete `train.py`\n",
    "Use the template file attached in the Resources folder to write a script that runs the steps above to create a database and export a model based on a new dataset specified by the user."
   ]
  },
  {
   "cell_type": "code",
   "execution_count": null,
   "metadata": {},
   "outputs": [],
   "source": []
  }
 ],
 "metadata": {
  "kernelspec": {
   "display_name": "Python 3 (ipykernel)",
   "language": "python",
   "name": "python3"
  },
  "language_info": {
   "codemirror_mode": {
    "name": "ipython",
    "version": 3
   },
   "file_extension": ".py",
   "mimetype": "text/x-python",
   "name": "python",
   "nbconvert_exporter": "python",
   "pygments_lexer": "ipython3",
   "version": "3.9.1"
  }
 },
 "nbformat": 4,
 "nbformat_minor": 4
}
