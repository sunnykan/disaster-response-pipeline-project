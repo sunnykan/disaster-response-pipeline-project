{
 "cells": [
  {
   "cell_type": "markdown",
   "metadata": {},
   "source": [
    "# ML Pipeline Preparation\n",
    "Follow the instructions below to help you create your ML pipeline.\n",
    "### 1. Import libraries and load data from database.\n",
    "- Import Python libraries\n",
    "- Load dataset from database with [`read_sql_table`](https://pandas.pydata.org/pandas-docs/stable/generated/pandas.read_sql_table.html)\n",
    "- Define feature and target variables X and Y"
   ]
  },
  {
   "cell_type": "code",
   "execution_count": 8,
   "metadata": {},
   "outputs": [],
   "source": [
    "# import libraries\n",
    "from sqlalchemy import create_engine\n",
    "import pandas as pd\n",
    "from pathlib import Path\n",
    "import re\n",
    "import numpy as np\n",
    "import json\n",
    "\n",
    "from sklearn.model_selection import train_test_split\n",
    "from sklearn.feature_extraction.text import CountVectorizer\n",
    "from sklearn.feature_extraction.text import TfidfTransformer\n",
    "from sklearn.multioutput import MultiOutputClassifier\n",
    "from sklearn.tree import DecisionTreeClassifier\n",
    "from sklearn.pipeline import Pipeline\n",
    "from sklearn.metrics import classification_report\n",
    "\n",
    "from nltk.stem.wordnet import WordNetLemmatizer\n",
    "from nltk.tokenize import word_tokenize\n",
    "from nltk.corpus import stopwords\n",
    "from nltk.corpus import words"
   ]
  },
  {
   "cell_type": "code",
   "execution_count": 9,
   "metadata": {},
   "outputs": [
    {
     "data": {
      "text/plain": [
       "(25991, 38)"
      ]
     },
     "execution_count": 9,
     "metadata": {},
     "output_type": "execute_result"
    }
   ],
   "source": [
    "# load data from database\n",
    "repo = Path.cwd()\n",
    "path = repo / 'data' / 'DisasterResponse.db'\n",
    "\n",
    "engine = create_engine(f'sqlite:///{path}')\n",
    "df = pd.read_sql(\"select * from Message\", con=engine)\n",
    "df.shape"
   ]
  },
  {
   "cell_type": "markdown",
   "metadata": {},
   "source": [
    "Check imbalance in target. See explore_data.ipynb"
   ]
  },
  {
   "cell_type": "markdown",
   "metadata": {},
   "source": [
    "### 2. Write a tokenization function to process your text data"
   ]
  },
  {
   "cell_type": "code",
   "execution_count": 11,
   "metadata": {},
   "outputs": [],
   "source": [
    "stop_words = stopwords.words(\"english\")\n",
    "vocab = set(words.words())\n",
    "vocab = vocab - set(stop_words)\n",
    "lemmatizer = WordNetLemmatizer()\n",
    "words_set = {lemmatizer.lemmatize(word) for word in vocab}"
   ]
  },
  {
   "cell_type": "code",
   "execution_count": 12,
   "metadata": {},
   "outputs": [],
   "source": [
    "def tokenize(text):\n",
    "    \"\"\"TO DO\n",
    "    \"\"\"\n",
    "    \n",
    "    text = re.sub(r\"[^a-zA-Z]\", \" \", text.lower())\n",
    "    tokens = word_tokenize(text)\n",
    "    lemmatizer = WordNetLemmatizer()\n",
    "    \n",
    "    clean_tokens = [lemmatizer.lemmatize(token).strip() for token in tokens if token in words_set]\n",
    "    \n",
    "    return clean_tokens"
   ]
  },
  {
   "cell_type": "markdown",
   "metadata": {},
   "source": [
    "### 3. Build a machine learning pipeline\n",
    "This machine pipeline should take in the `message` column as input and output classification results on the other 36 categories in the dataset. You may find the [MultiOutputClassifier](http://scikit-learn.org/stable/modules/generated/sklearn.multioutput.MultiOutputClassifier.html) helpful for predicting multiple target variables."
   ]
  },
  {
   "cell_type": "code",
   "execution_count": 413,
   "metadata": {},
   "outputs": [],
   "source": [
    "pipeline = Pipeline([\n",
    "    (\"cv\", CountVectorizer(tokenizer=tokenize)),\n",
    "    (\"transformer\", TfidfTransformer()),\n",
    "    (\"dtc\", MultiOutputClassifier(DecisionTreeClassifier(random_state=42, class_weight=\"balanced\"), n_jobs=-1))\n",
    "])"
   ]
  },
  {
   "cell_type": "markdown",
   "metadata": {},
   "source": [
    "### 4. Train pipeline\n",
    "- Split data into train and test sets\n",
    "- Train pipeline"
   ]
  },
  {
   "cell_type": "code",
   "execution_count": 414,
   "metadata": {},
   "outputs": [
    {
     "data": {
      "text/plain": [
       "((20792,), (5199,), (20792, 35), (5199, 35))"
      ]
     },
     "execution_count": 414,
     "metadata": {},
     "output_type": "execute_result"
    }
   ],
   "source": [
    "X = df['message'].values\n",
    "Y = df.iloc[:, :-3].values\n",
    "\n",
    "X_train, X_test, Y_train, Y_test = train_test_split(X, Y, test_size=0.2, random_state=42)\n",
    "X_train.shape, X_test.shape, Y_train.shape, Y_test.shape"
   ]
  },
  {
   "cell_type": "code",
   "execution_count": 415,
   "metadata": {},
   "outputs": [
    {
     "data": {
      "text/plain": [
       "Pipeline(steps=[('cv',\n",
       "                 CountVectorizer(tokenizer=<function tokenize at 0x12fb5fe50>)),\n",
       "                ('transformer', TfidfTransformer()),\n",
       "                ('dtc',\n",
       "                 MultiOutputClassifier(estimator=DecisionTreeClassifier(class_weight='balanced',\n",
       "                                                                        random_state=42),\n",
       "                                       n_jobs=-1))])"
      ]
     },
     "execution_count": 415,
     "metadata": {},
     "output_type": "execute_result"
    }
   ],
   "source": [
    "pipeline.fit(X_train, Y_train)"
   ]
  },
  {
   "cell_type": "markdown",
   "metadata": {},
   "source": [
    "### 5. Test your model\n",
    "Report the f1 score, precision and recall for each output category of the dataset. You can do this by iterating through the columns and calling sklearn's `classification_report` on each."
   ]
  },
  {
   "cell_type": "code",
   "execution_count": 416,
   "metadata": {},
   "outputs": [],
   "source": [
    "Y_preds = pipeline.predict(X_test)"
   ]
  },
  {
   "cell_type": "code",
   "execution_count": 417,
   "metadata": {},
   "outputs": [],
   "source": [
    "# Y_probas = pipeline.predict_proba(X_test) # used to test different threshold values\n",
    "# Y_probas_1 = np.array([prob_mat[:,1] for prob_mat in Y_probas])"
   ]
  },
  {
   "cell_type": "code",
   "execution_count": 418,
   "metadata": {},
   "outputs": [],
   "source": [
    "# from sklearn.metrics import confusion_matrix\n",
    "# from sklearn.metrics import precision_score\n",
    "# from sklearn.metrics import recall_score"
   ]
  },
  {
   "cell_type": "code",
   "execution_count": 419,
   "metadata": {},
   "outputs": [],
   "source": [
    "# # th = {0.2, 0.4, 0.6, 0.8}\n",
    "# th = 0.2\n",
    "# for idx, _ in enumerate(output_labels):\n",
    "#     Y_pred_th = np.transpose(np.apply_along_axis(lambda x: (x > th).astype(int), 1, Y_probas_1))\n",
    "#     #print(confusion_matrix(Y_test[:, idx], Y_pred_th[:, idx]))\n",
    "#     print(precision_score(Y_test[:, idx], Y_pred_th[:, idx]))\n",
    "#     print(recall_score(Y_test[:, idx], Y_pred_th[:, idx]))\n",
    "#     print(\"------------------------------------\")"
   ]
  },
  {
   "cell_type": "code",
   "execution_count": 420,
   "metadata": {},
   "outputs": [],
   "source": [
    "def get_metrics(y_test, y_pred):\n",
    "    \"\"\"TO DO\n",
    "    \"\"\"\n",
    "    cr = classification_report(y_test, y_pred, zero_division=0, output_dict=True)\n",
    "    return cr"
   ]
  },
  {
   "cell_type": "code",
   "execution_count": 421,
   "metadata": {},
   "outputs": [],
   "source": [
    "report_dict = {}\n",
    "output_labels = list(df.iloc[:, :-3].columns)\n",
    "# num_outputs = len(output_labels)\n",
    "# num_outputs"
   ]
  },
  {
   "cell_type": "code",
   "execution_count": 422,
   "metadata": {},
   "outputs": [],
   "source": [
    "import numpy as np\n",
    "for idx, output in enumerate(output_labels):\n",
    "    metrics_dict = get_metrics(Y_test[:,idx], Y_preds[:,idx])\n",
    "    report_dict[output] = metrics_dict"
   ]
  },
  {
   "cell_type": "code",
   "execution_count": 423,
   "metadata": {},
   "outputs": [],
   "source": [
    "with open('dtc_model_results.json', 'w', encoding=\"utf-8\") as fhand:\n",
    "    json.dump(report_dict, fhand)"
   ]
  },
  {
   "cell_type": "code",
   "execution_count": 424,
   "metadata": {},
   "outputs": [
    {
     "name": "stdout",
     "output_type": "stream",
     "text": [
      "category: related \n",
      " accuracy: 0.7711, precision: 0.8604, recall: 0.8380, f-score: 0.8490\n",
      "category: request \n",
      " accuracy: 0.8215, precision: 0.5000, recall: 0.5830, f-score: 0.5383\n",
      "category: offer \n",
      " accuracy: 0.9740, precision: 0.0088, recall: 0.0417, f-score: 0.0146\n",
      "category: aid_related \n",
      " accuracy: 0.6905, precision: 0.6278, recall: 0.6425, f-score: 0.6351\n",
      "category: medical_help \n",
      " accuracy: 0.8704, precision: 0.3096, recall: 0.4212, f-score: 0.3569\n",
      "category: medical_products \n",
      " accuracy: 0.9033, precision: 0.2019, recall: 0.3537, f-score: 0.2570\n",
      "category: search_and_rescue \n",
      " accuracy: 0.9236, precision: 0.1040, recall: 0.2464, f-score: 0.1462\n",
      "category: security \n",
      " accuracy: 0.9375, precision: 0.0558, recall: 0.1744, f-score: 0.0845\n",
      "category: military \n",
      " accuracy: 0.9379, precision: 0.2459, recall: 0.4464, f-score: 0.3171\n",
      "category: water \n",
      " accuracy: 0.9473, precision: 0.5471, recall: 0.6913, f-score: 0.6108\n",
      "category: food \n",
      " accuracy: 0.9292, precision: 0.6794, recall: 0.7184, f-score: 0.6984\n",
      "category: shelter \n",
      " accuracy: 0.8834, precision: 0.3880, recall: 0.5302, f-score: 0.4481\n",
      "category: clothing \n",
      " accuracy: 0.9698, precision: 0.2168, recall: 0.4079, f-score: 0.2831\n",
      "category: money \n",
      " accuracy: 0.9271, precision: 0.1643, recall: 0.4085, f-score: 0.2343\n",
      "category: missing_people \n",
      " accuracy: 0.9713, precision: 0.1240, recall: 0.2586, f-score: 0.1676\n",
      "category: refugees \n",
      " accuracy: 0.8800, precision: 0.0682, recall: 0.2143, f-score: 0.1034\n",
      "category: death \n",
      " accuracy: 0.9156, precision: 0.2361, recall: 0.4455, f-score: 0.3087\n",
      "category: other_aid \n",
      " accuracy: 0.7811, precision: 0.2781, recall: 0.3750, f-score: 0.3194\n",
      "category: infrastructure_related \n",
      " accuracy: 0.8515, precision: 0.1446, recall: 0.2401, f-score: 0.1805\n",
      "category: transport \n",
      " accuracy: 0.8892, precision: 0.1385, recall: 0.2551, f-score: 0.1795\n",
      "category: buildings \n",
      " accuracy: 0.8902, precision: 0.1853, recall: 0.3473, f-score: 0.2417\n",
      "category: electricity \n",
      " accuracy: 0.9394, precision: 0.1394, recall: 0.3704, f-score: 0.2025\n",
      "category: tools \n",
      " accuracy: 0.9658, precision: 0.0000, recall: 0.0000, f-score: 0.0000\n",
      "category: hospitals \n",
      " accuracy: 0.9644, precision: 0.0839, recall: 0.2321, f-score: 0.1232\n",
      "category: shops \n",
      " accuracy: 0.9752, precision: 0.0180, recall: 0.0909, f-score: 0.0301\n",
      "category: aid_centers \n",
      " accuracy: 0.9552, precision: 0.0854, recall: 0.2500, f-score: 0.1273\n",
      "category: other_infrastructure \n",
      " accuracy: 0.8811, precision: 0.0996, recall: 0.2069, f-score: 0.1345\n",
      "category: weather_related \n",
      " accuracy: 0.8088, precision: 0.6467, recall: 0.6974, f-score: 0.6711\n",
      "category: floods \n",
      " accuracy: 0.9006, precision: 0.4069, recall: 0.5048, f-score: 0.4506\n",
      "category: storm \n",
      " accuracy: 0.9096, precision: 0.5336, recall: 0.6380, f-score: 0.5811\n",
      "category: fire \n",
      " accuracy: 0.9729, precision: 0.1293, recall: 0.2727, f-score: 0.1754\n",
      "category: earthquake \n",
      " accuracy: 0.9410, precision: 0.6556, recall: 0.7732, f-score: 0.7096\n",
      "category: cold \n",
      " accuracy: 0.9667, precision: 0.2832, recall: 0.5000, f-score: 0.3616\n",
      "category: other_weather \n",
      " accuracy: 0.8907, precision: 0.1486, recall: 0.2954, f-score: 0.1977\n",
      "category: direct_report \n",
      " accuracy: 0.7584, precision: 0.4163, recall: 0.5139, f-score: 0.4600\n"
     ]
    }
   ],
   "source": [
    "for k, v in report_dict.items():\n",
    "    print(f\"\"\"category: {k} \\n accuracy: {v['accuracy']:.4f}, precision: {v['1']['precision']:.4f}, recall: {v['1']['recall']:.4f}, f-score: {v['1']['f1-score']:.4f}\"\"\")\n",
    "    "
   ]
  },
  {
   "cell_type": "markdown",
   "metadata": {},
   "source": [
    "### 6. Improve your model\n",
    "Use grid search to find better parameters. "
   ]
  },
  {
   "cell_type": "code",
   "execution_count": 354,
   "metadata": {},
   "outputs": [
    {
     "data": {
      "text/plain": [
       "{'memory': None,\n",
       " 'steps': [('cv',\n",
       "   CountVectorizer(tokenizer=<function tokenize at 0x12fb5fe50>)),\n",
       "  ('transformer', TfidfTransformer()),\n",
       "  ('dtc',\n",
       "   MultiOutputClassifier(estimator=DecisionTreeClassifier(), n_jobs=-1))],\n",
       " 'verbose': False,\n",
       " 'cv': CountVectorizer(tokenizer=<function tokenize at 0x12fb5fe50>),\n",
       " 'transformer': TfidfTransformer(),\n",
       " 'dtc': MultiOutputClassifier(estimator=DecisionTreeClassifier(), n_jobs=-1),\n",
       " 'cv__analyzer': 'word',\n",
       " 'cv__binary': False,\n",
       " 'cv__decode_error': 'strict',\n",
       " 'cv__dtype': numpy.int64,\n",
       " 'cv__encoding': 'utf-8',\n",
       " 'cv__input': 'content',\n",
       " 'cv__lowercase': True,\n",
       " 'cv__max_df': 1.0,\n",
       " 'cv__max_features': None,\n",
       " 'cv__min_df': 1,\n",
       " 'cv__ngram_range': (1, 1),\n",
       " 'cv__preprocessor': None,\n",
       " 'cv__stop_words': None,\n",
       " 'cv__strip_accents': None,\n",
       " 'cv__token_pattern': '(?u)\\\\b\\\\w\\\\w+\\\\b',\n",
       " 'cv__tokenizer': <function __main__.tokenize(text)>,\n",
       " 'cv__vocabulary': None,\n",
       " 'transformer__norm': 'l2',\n",
       " 'transformer__smooth_idf': True,\n",
       " 'transformer__sublinear_tf': False,\n",
       " 'transformer__use_idf': True,\n",
       " 'dtc__estimator__ccp_alpha': 0.0,\n",
       " 'dtc__estimator__class_weight': None,\n",
       " 'dtc__estimator__criterion': 'gini',\n",
       " 'dtc__estimator__max_depth': None,\n",
       " 'dtc__estimator__max_features': None,\n",
       " 'dtc__estimator__max_leaf_nodes': None,\n",
       " 'dtc__estimator__min_impurity_decrease': 0.0,\n",
       " 'dtc__estimator__min_impurity_split': None,\n",
       " 'dtc__estimator__min_samples_leaf': 1,\n",
       " 'dtc__estimator__min_samples_split': 2,\n",
       " 'dtc__estimator__min_weight_fraction_leaf': 0.0,\n",
       " 'dtc__estimator__random_state': None,\n",
       " 'dtc__estimator__splitter': 'best',\n",
       " 'dtc__estimator': DecisionTreeClassifier(),\n",
       " 'dtc__n_jobs': -1}"
      ]
     },
     "execution_count": 354,
     "metadata": {},
     "output_type": "execute_result"
    }
   ],
   "source": [
    "pipeline.get_params()"
   ]
  },
  {
   "cell_type": "code",
   "execution_count": 368,
   "metadata": {},
   "outputs": [],
   "source": [
    "from sklearn.model_selection import GridSearchCV\n",
    "\n",
    "param_grid = {\n",
    "              \"cv__max_df\": (0.5, 1.0),  \n",
    "              \"dtc__estimator__min_samples_leaf\": [5, 10],\n",
    "              }\n",
    "\n",
    "cv = GridSearchCV(pipeline, param_grid=param_grid, scoring=\"f1_micro\")"
   ]
  },
  {
   "cell_type": "code",
   "execution_count": 369,
   "metadata": {},
   "outputs": [
    {
     "data": {
      "text/plain": [
       "GridSearchCV(estimator=Pipeline(steps=[('cv',\n",
       "                                        CountVectorizer(tokenizer=<function tokenize at 0x12fb5fe50>)),\n",
       "                                       ('transformer', TfidfTransformer()),\n",
       "                                       ('dtc',\n",
       "                                        MultiOutputClassifier(estimator=DecisionTreeClassifier(class_weight='balanced',\n",
       "                                                                                               random_state=42),\n",
       "                                                              n_jobs=-1))]),\n",
       "             param_grid={'cv__max_df': (0.5, 1.0),\n",
       "                         'dtc__estimator__min_samples_leaf': [5, 10]},\n",
       "             scoring='f1_micro')"
      ]
     },
     "execution_count": 369,
     "metadata": {},
     "output_type": "execute_result"
    }
   ],
   "source": [
    "cv.fit(X_train, Y_train)"
   ]
  },
  {
   "cell_type": "code",
   "execution_count": 371,
   "metadata": {},
   "outputs": [
    {
     "data": {
      "text/plain": [
       "Pipeline(steps=[('cv',\n",
       "                 CountVectorizer(max_df=0.5,\n",
       "                                 tokenizer=<function tokenize at 0x12fb5fe50>)),\n",
       "                ('transformer', TfidfTransformer()),\n",
       "                ('dtc',\n",
       "                 MultiOutputClassifier(estimator=DecisionTreeClassifier(class_weight='balanced',\n",
       "                                                                        min_samples_leaf=5,\n",
       "                                                                        random_state=42),\n",
       "                                       n_jobs=-1))])"
      ]
     },
     "execution_count": 371,
     "metadata": {},
     "output_type": "execute_result"
    }
   ],
   "source": [
    "cv.best_estimator_"
   ]
  },
  {
   "cell_type": "code",
   "execution_count": 372,
   "metadata": {},
   "outputs": [
    {
     "data": {
      "text/plain": [
       "{'cv__max_df': 0.5, 'dtc__estimator__min_samples_leaf': 5}"
      ]
     },
     "execution_count": 372,
     "metadata": {},
     "output_type": "execute_result"
    }
   ],
   "source": [
    "cv.best_params_"
   ]
  },
  {
   "cell_type": "markdown",
   "metadata": {},
   "source": [
    "### 7. Test your model\n",
    "Show the accuracy, precision, and recall of the tuned model.  \n",
    "\n",
    "Since this project focuses on code quality, process, and  pipelines, there is no minimum performance metric needed to pass. However, make sure to fine tune your models for accuracy, precision and recall to make your project stand out - especially for your portfolio!"
   ]
  },
  {
   "cell_type": "code",
   "execution_count": 408,
   "metadata": {},
   "outputs": [],
   "source": [
    "Y_preds = cv.predict(X_test)"
   ]
  },
  {
   "cell_type": "code",
   "execution_count": 409,
   "metadata": {},
   "outputs": [
    {
     "data": {
      "text/plain": [
       "(5199, 35)"
      ]
     },
     "execution_count": 409,
     "metadata": {},
     "output_type": "execute_result"
    }
   ],
   "source": [
    "Y_preds.shape"
   ]
  },
  {
   "cell_type": "code",
   "execution_count": 410,
   "metadata": {},
   "outputs": [],
   "source": [
    "for idx, output in enumerate(output_labels):\n",
    "    metrics_dict = get_metrics(Y_test[:,idx], Y_preds[:,idx])\n",
    "    report_dict[output] = metrics_dict"
   ]
  },
  {
   "cell_type": "code",
   "execution_count": 411,
   "metadata": {},
   "outputs": [],
   "source": [
    "with open('dtc_model_gridsearchcv_results.json', 'w', encoding=\"utf-8\") as fhand:\n",
    "    json.dump(report_dict, fhand)"
   ]
  },
  {
   "cell_type": "code",
   "execution_count": 412,
   "metadata": {},
   "outputs": [
    {
     "name": "stdout",
     "output_type": "stream",
     "text": [
      "category: related \n",
      " accuracy: 0.7305, precision: 0.8720, recall: 0.7608, f-score: 0.8126\n",
      "category: request \n",
      " accuracy: 0.7725, precision: 0.4192, recall: 0.7123, f-score: 0.5277\n",
      "category: offer \n",
      " accuracy: 0.9783, precision: 0.0110, recall: 0.0417, f-score: 0.0174\n",
      "category: aid_related \n",
      " accuracy: 0.6851, precision: 0.6219, recall: 0.6347, f-score: 0.6282\n",
      "category: medical_help \n",
      " accuracy: 0.8036, precision: 0.2281, recall: 0.5450, f-score: 0.3216\n",
      "category: medical_products \n",
      " accuracy: 0.8604, precision: 0.1450, recall: 0.3984, f-score: 0.2126\n",
      "category: search_and_rescue \n",
      " accuracy: 0.9019, precision: 0.0885, recall: 0.2899, f-score: 0.1356\n",
      "category: security \n",
      " accuracy: 0.9154, precision: 0.0366, recall: 0.1628, f-score: 0.0598\n",
      "category: military \n",
      " accuracy: 0.9144, precision: 0.1874, recall: 0.4940, f-score: 0.2717\n",
      "category: water \n",
      " accuracy: 0.9248, precision: 0.4333, recall: 0.8360, f-score: 0.5708\n",
      "category: food \n",
      " accuracy: 0.9025, precision: 0.5475, recall: 0.8364, f-score: 0.6618\n",
      "category: shelter \n",
      " accuracy: 0.8219, precision: 0.2837, recall: 0.6530, f-score: 0.3956\n",
      "category: clothing \n",
      " accuracy: 0.9646, precision: 0.2128, recall: 0.5263, f-score: 0.3030\n",
      "category: money \n",
      " accuracy: 0.9277, precision: 0.1750, recall: 0.4437, f-score: 0.2510\n",
      "category: missing_people \n",
      " accuracy: 0.9596, precision: 0.1000, recall: 0.3276, f-score: 0.1532\n",
      "category: refugees \n",
      " accuracy: 0.8771, precision: 0.0802, recall: 0.2679, f-score: 0.1235\n",
      "category: death \n",
      " accuracy: 0.8765, precision: 0.1764, recall: 0.5227, f-score: 0.2638\n",
      "category: other_aid \n",
      " accuracy: 0.7015, precision: 0.2404, recall: 0.5463, f-score: 0.3339\n",
      "category: infrastructure_related \n",
      " accuracy: 0.7848, precision: 0.1194, recall: 0.3390, f-score: 0.1766\n",
      "category: transport \n",
      " accuracy: 0.8398, precision: 0.1093, recall: 0.3320, f-score: 0.1645\n",
      "category: buildings \n",
      " accuracy: 0.8504, precision: 0.1495, recall: 0.4198, f-score: 0.2204\n",
      "category: electricity \n",
      " accuracy: 0.9448, precision: 0.1924, recall: 0.5185, f-score: 0.2807\n",
      "category: tools \n",
      " accuracy: 0.9711, precision: 0.0163, recall: 0.0645, f-score: 0.0260\n",
      "category: hospitals \n",
      " accuracy: 0.9596, precision: 0.0860, recall: 0.2857, f-score: 0.1322\n",
      "category: shops \n",
      " accuracy: 0.9710, precision: 0.0150, recall: 0.0909, f-score: 0.0258\n",
      "category: aid_centers \n",
      " accuracy: 0.9456, precision: 0.0648, recall: 0.2353, f-score: 0.1016\n",
      "category: other_infrastructure \n",
      " accuracy: 0.8384, precision: 0.0847, recall: 0.2672, f-score: 0.1286\n",
      "category: weather_related \n",
      " accuracy: 0.7805, precision: 0.5833, recall: 0.7538, f-score: 0.6577\n",
      "category: floods \n",
      " accuracy: 0.8352, precision: 0.2712, recall: 0.6167, f-score: 0.3767\n",
      "category: storm \n",
      " accuracy: 0.8675, precision: 0.4110, recall: 0.8043, f-score: 0.5440\n",
      "category: fire \n",
      " accuracy: 0.9600, precision: 0.0952, recall: 0.3273, f-score: 0.1475\n",
      "category: earthquake \n",
      " accuracy: 0.9033, precision: 0.4889, recall: 0.8206, f-score: 0.6128\n",
      "category: cold \n",
      " accuracy: 0.9536, precision: 0.2196, recall: 0.5714, f-score: 0.3173\n",
      "category: other_weather \n",
      " accuracy: 0.8436, precision: 0.1336, recall: 0.4430, f-score: 0.2053\n",
      "category: direct_report \n",
      " accuracy: 0.6899, precision: 0.3521, recall: 0.6532, f-score: 0.4576\n"
     ]
    }
   ],
   "source": [
    "for k, v in report_dict.items():\n",
    "    print(f\"\"\"category: {k} \\n accuracy: {v['accuracy']:.4f}, precision: {v['1']['precision']:.4f}, recall: {v['1']['recall']:.4f}, f-score: {v['1']['f1-score']:.4f}\"\"\")"
   ]
  },
  {
   "cell_type": "markdown",
   "metadata": {},
   "source": [
    "### 8. Try improving your model further. Here are a few ideas:\n",
    "* try other machine learning algorithms\n",
    "* add other features besides the TF-IDF"
   ]
  },
  {
   "cell_type": "code",
   "execution_count": null,
   "metadata": {},
   "outputs": [],
   "source": []
  },
  {
   "cell_type": "markdown",
   "metadata": {},
   "source": [
    "### 9. Export your model as a pickle file"
   ]
  },
  {
   "cell_type": "code",
   "execution_count": 425,
   "metadata": {},
   "outputs": [],
   "source": [
    "import pickle\n",
    "\n",
    "pickle.dump(cv, open('model_dtc_gridsearchcv.pkl','wb'))"
   ]
  },
  {
   "cell_type": "markdown",
   "metadata": {},
   "source": [
    "### 10. Use this notebook to complete `train.py`\n",
    "Use the template file attached in the Resources folder to write a script that runs the steps above to create a database and export a model based on a new dataset specified by the user."
   ]
  },
  {
   "cell_type": "code",
   "execution_count": null,
   "metadata": {},
   "outputs": [],
   "source": []
  }
 ],
 "metadata": {
  "kernelspec": {
   "display_name": "Python 3 (ipykernel)",
   "language": "python",
   "name": "python3"
  },
  "language_info": {
   "codemirror_mode": {
    "name": "ipython",
    "version": 3
   },
   "file_extension": ".py",
   "mimetype": "text/x-python",
   "name": "python",
   "nbconvert_exporter": "python",
   "pygments_lexer": "ipython3",
   "version": "3.9.1"
  }
 },
 "nbformat": 4,
 "nbformat_minor": 4
}
