{
 "cells": [
  {
   "cell_type": "markdown",
   "metadata": {},
   "source": [
    "# ML Pipeline Preparation\n",
    "Follow the instructions below to help you create your ML pipeline.\n",
    "### 1. Import libraries and load data from database.\n",
    "- Import Python libraries\n",
    "- Load dataset from database with [`read_sql_table`](https://pandas.pydata.org/pandas-docs/stable/generated/pandas.read_sql_table.html)\n",
    "- Define feature and target variables X and Y"
   ]
  },
  {
   "cell_type": "code",
   "execution_count": 5,
   "metadata": {},
   "outputs": [],
   "source": [
    "# import libraries\n",
    "from sqlalchemy import create_engine\n",
    "import pandas as pd\n",
    "from pathlib import Path\n",
    "import re\n",
    "import numpy as np\n",
    "import json\n",
    "\n",
    "from sklearn.model_selection import train_test_split\n",
    "from sklearn.feature_extraction.text import CountVectorizer\n",
    "from sklearn.feature_extraction.text import TfidfTransformer\n",
    "from sklearn.multioutput import MultiOutputClassifier\n",
    "from sklearn.ensemble import RandomForestClassifier\n",
    "from sklearn.pipeline import Pipeline\n",
    "from sklearn.metrics import classification_report\n",
    "\n",
    "from nltk.stem.wordnet import WordNetLemmatizer\n",
    "from nltk.tokenize import word_tokenize\n",
    "from nltk.corpus import stopwords\n",
    "from nltk.corpus import words"
   ]
  },
  {
   "cell_type": "code",
   "execution_count": 6,
   "metadata": {},
   "outputs": [
    {
     "data": {
      "text/plain": [
       "(25991, 38)"
      ]
     },
     "execution_count": 6,
     "metadata": {},
     "output_type": "execute_result"
    }
   ],
   "source": [
    "# load data from database\n",
    "repo = Path.cwd()\n",
    "path = repo / 'data' / 'DisasterResponse.db'\n",
    "\n",
    "engine = create_engine(f'sqlite:///{path}')\n",
    "df = pd.read_sql(\"select * from Message\", con=engine)\n",
    "df.shape"
   ]
  },
  {
   "cell_type": "markdown",
   "metadata": {},
   "source": [
    "#check imbalance in target\n",
    "See explore_data.ipynb"
   ]
  },
  {
   "cell_type": "markdown",
   "metadata": {},
   "source": [
    "### 2. Write a tokenization function to process your text data"
   ]
  },
  {
   "cell_type": "code",
   "execution_count": 7,
   "metadata": {},
   "outputs": [],
   "source": [
    "stop_words = stopwords.words(\"english\")\n",
    "vocab = set(words.words())\n",
    "vocab = vocab - set(stop_words)\n",
    "lemmatizer = WordNetLemmatizer()\n",
    "words_set = {lemmatizer.lemmatize(word) for word in vocab}"
   ]
  },
  {
   "cell_type": "code",
   "execution_count": 8,
   "metadata": {},
   "outputs": [],
   "source": [
    "def tokenize(text):\n",
    "    \"\"\"TO DO\n",
    "    \"\"\"\n",
    "    \n",
    "    text = re.sub(r\"[^a-zA-Z]\", \" \", text.lower())\n",
    "    tokens = word_tokenize(text)\n",
    "    lemmatizer = WordNetLemmatizer()\n",
    "    \n",
    "    clean_tokens = [lemmatizer.lemmatize(token).strip() for token in tokens if token in words_set]\n",
    "    \n",
    "    return clean_tokens"
   ]
  },
  {
   "cell_type": "markdown",
   "metadata": {},
   "source": [
    "### 3. Build a machine learning pipeline\n",
    "This machine pipeline should take in the `message` column as input and output classification results on the other 36 categories in the dataset. You may find the [MultiOutputClassifier](http://scikit-learn.org/stable/modules/generated/sklearn.multioutput.MultiOutputClassifier.html) helpful for predicting multiple target variables."
   ]
  },
  {
   "cell_type": "code",
   "execution_count": 10,
   "metadata": {},
   "outputs": [],
   "source": [
    "pipeline = Pipeline([\n",
    "    (\"cv\", CountVectorizer(tokenizer=tokenize)),\n",
    "    (\"transformer\", TfidfTransformer()),\n",
    "    (\"rfc\", MultiOutputClassifier(RandomForestClassifier(random_state=42, class_weight=\"balanced\"), n_jobs=-1))\n",
    "])"
   ]
  },
  {
   "cell_type": "markdown",
   "metadata": {},
   "source": [
    "### 4. Train pipeline\n",
    "- Split data into train and test sets\n",
    "- Train pipeline"
   ]
  },
  {
   "cell_type": "code",
   "execution_count": 11,
   "metadata": {},
   "outputs": [
    {
     "data": {
      "text/plain": [
       "((20792,), (5199,), (20792, 35), (5199, 35))"
      ]
     },
     "execution_count": 11,
     "metadata": {},
     "output_type": "execute_result"
    }
   ],
   "source": [
    "X = df['message'].values\n",
    "Y = df.iloc[:, :-3].values\n",
    "\n",
    "X_train, X_test, Y_train, Y_test = train_test_split(X, Y, test_size=0.2, random_state=42)\n",
    "X_train.shape, X_test.shape, Y_train.shape, Y_test.shape"
   ]
  },
  {
   "cell_type": "code",
   "execution_count": 12,
   "metadata": {},
   "outputs": [
    {
     "data": {
      "text/plain": [
       "Pipeline(steps=[('cv',\n",
       "                 CountVectorizer(tokenizer=<function tokenize at 0x1256afaf0>)),\n",
       "                ('transformer', TfidfTransformer()),\n",
       "                ('rfc',\n",
       "                 MultiOutputClassifier(estimator=RandomForestClassifier(class_weight='balanced',\n",
       "                                                                        random_state=42),\n",
       "                                       n_jobs=-1))])"
      ]
     },
     "execution_count": 12,
     "metadata": {},
     "output_type": "execute_result"
    }
   ],
   "source": [
    "pipeline.fit(X_train, Y_train)"
   ]
  },
  {
   "cell_type": "markdown",
   "metadata": {},
   "source": [
    "### 5. Test your model\n",
    "Report the f1 score, precision and recall for each output category of the dataset. You can do this by iterating through the columns and calling sklearn's `classification_report` on each."
   ]
  },
  {
   "cell_type": "code",
   "execution_count": 13,
   "metadata": {},
   "outputs": [],
   "source": [
    "Y_preds = pipeline.predict(X_test)"
   ]
  },
  {
   "cell_type": "code",
   "execution_count": 14,
   "metadata": {},
   "outputs": [],
   "source": [
    "def get_metrics(y_test, y_pred):\n",
    "    \"\"\"TO DO\n",
    "    \"\"\"\n",
    "    cr = classification_report(y_test, y_pred, zero_division=0, output_dict=True)\n",
    "    return cr"
   ]
  },
  {
   "cell_type": "code",
   "execution_count": 36,
   "metadata": {},
   "outputs": [],
   "source": [
    "output_labels = list(df.iloc[:, :-3].columns)\n",
    "\n",
    "def generate_report():\n",
    "    report_dict = {}\n",
    "    for idx, output in enumerate(output_labels):\n",
    "        metrics_dict = get_metrics(Y_test[:,idx], Y_preds[:,idx])\n",
    "        report_dict[output] = metrics_dict\n",
    "\n",
    "#generate_report()"
   ]
  },
  {
   "cell_type": "code",
   "execution_count": 19,
   "metadata": {},
   "outputs": [],
   "source": [
    "with open('rfc_model_results.json', 'w', encoding=\"utf-8\") as fhand:\n",
    "    json.dump(report_dict, fhand)"
   ]
  },
  {
   "cell_type": "code",
   "execution_count": 20,
   "metadata": {},
   "outputs": [
    {
     "name": "stdout",
     "output_type": "stream",
     "text": [
      "category: related \n",
      " accuracy: 0.8221, precision: 0.8579, recall: 0.9209, f-score: 0.8883\n",
      "category: request \n",
      " accuracy: 0.8942, precision: 0.8150, recall: 0.5269, f-score: 0.6401\n",
      "category: offer \n",
      " accuracy: 0.9950, precision: 0.0000, recall: 0.0000, f-score: 0.0000\n",
      "category: aid_related \n",
      " accuracy: 0.7498, precision: 0.7111, recall: 0.6788, f-score: 0.6945\n",
      "category: medical_help \n",
      " accuracy: 0.9181, precision: 0.6098, recall: 0.1126, f-score: 0.1901\n",
      "category: medical_products \n",
      " accuracy: 0.9561, precision: 0.8214, recall: 0.0935, f-score: 0.1679\n",
      "category: search_and_rescue \n",
      " accuracy: 0.9738, precision: 0.6000, recall: 0.0435, f-score: 0.0811\n",
      "category: security \n",
      " accuracy: 0.9833, precision: 0.3333, recall: 0.0116, f-score: 0.0225\n",
      "category: military \n",
      " accuracy: 0.9686, precision: 0.6923, recall: 0.0536, f-score: 0.0994\n",
      "category: water \n",
      " accuracy: 0.9615, precision: 0.7606, recall: 0.5209, f-score: 0.6183\n",
      "category: food \n",
      " accuracy: 0.9427, precision: 0.8589, recall: 0.5953, f-score: 0.7032\n",
      "category: shelter \n",
      " accuracy: 0.9248, precision: 0.7517, recall: 0.2349, f-score: 0.3580\n",
      "category: clothing \n",
      " accuracy: 0.9871, precision: 0.8462, recall: 0.1447, f-score: 0.2472\n",
      "category: money \n",
      " accuracy: 0.9727, precision: 0.5000, recall: 0.0282, f-score: 0.0533\n",
      "category: missing_people \n",
      " accuracy: 0.9881, precision: 0.0000, recall: 0.0000, f-score: 0.0000\n",
      "category: refugees \n",
      " accuracy: 0.9671, precision: 0.0000, recall: 0.0000, f-score: 0.0000\n",
      "category: death \n",
      " accuracy: 0.9602, precision: 0.6857, recall: 0.1091, f-score: 0.1882\n",
      "category: other_aid \n",
      " accuracy: 0.8638, precision: 0.5156, recall: 0.0927, f-score: 0.1571\n",
      "category: infrastructure_related \n",
      " accuracy: 0.9319, precision: 0.5000, recall: 0.0028, f-score: 0.0056\n",
      "category: transport \n",
      " accuracy: 0.9521, precision: 0.3333, recall: 0.0081, f-score: 0.0158\n",
      "category: buildings \n",
      " accuracy: 0.9488, precision: 0.3000, recall: 0.0115, f-score: 0.0221\n",
      "category: electricity \n",
      " accuracy: 0.9798, precision: 0.6154, recall: 0.0741, f-score: 0.1322\n",
      "category: tools \n",
      " accuracy: 0.9940, precision: 0.0000, recall: 0.0000, f-score: 0.0000\n",
      "category: hospitals \n",
      " accuracy: 0.9892, precision: 0.0000, recall: 0.0000, f-score: 0.0000\n",
      "category: shops \n",
      " accuracy: 0.9958, precision: 0.0000, recall: 0.0000, f-score: 0.0000\n",
      "category: aid_centers \n",
      " accuracy: 0.9869, precision: 0.0000, recall: 0.0000, f-score: 0.0000\n",
      "category: other_infrastructure \n",
      " accuracy: 0.9554, precision: 0.5000, recall: 0.0043, f-score: 0.0085\n",
      "category: weather_related \n",
      " accuracy: 0.8690, precision: 0.8202, recall: 0.6809, f-score: 0.7441\n",
      "category: floods \n",
      " accuracy: 0.9423, precision: 0.8371, recall: 0.3548, f-score: 0.4983\n",
      "category: storm \n",
      " accuracy: 0.9309, precision: 0.7484, recall: 0.4481, f-score: 0.5606\n",
      "category: fire \n",
      " accuracy: 0.9894, precision: 0.0000, recall: 0.0000, f-score: 0.0000\n",
      "category: earthquake \n",
      " accuracy: 0.9621, precision: 0.8692, recall: 0.6990, f-score: 0.7749\n",
      "category: cold \n",
      " accuracy: 0.9815, precision: 0.7500, recall: 0.0306, f-score: 0.0588\n",
      "category: other_weather \n",
      " accuracy: 0.9552, precision: 0.6000, recall: 0.0506, f-score: 0.0934\n",
      "category: direct_report \n",
      " accuracy: 0.8502, precision: 0.7290, recall: 0.4006, f-score: 0.5170\n"
     ]
    }
   ],
   "source": [
    "for k, v in report_dict.items():\n",
    "    print(f\"\"\"category: {k} \\n accuracy: {v['accuracy']:.4f}, precision: {v['1']['precision']:.4f}, recall: {v['1']['recall']:.4f}, f-score: {v['1']['f1-score']:.4f}\"\"\")"
   ]
  },
  {
   "cell_type": "markdown",
   "metadata": {},
   "source": [
    "### 6. Improve your model\n",
    "Use grid search to find better parameters. "
   ]
  },
  {
   "cell_type": "code",
   "execution_count": 21,
   "metadata": {},
   "outputs": [
    {
     "data": {
      "text/plain": [
       "{'memory': None,\n",
       " 'steps': [('cv',\n",
       "   CountVectorizer(tokenizer=<function tokenize at 0x1256afaf0>)),\n",
       "  ('transformer', TfidfTransformer()),\n",
       "  ('rfc',\n",
       "   MultiOutputClassifier(estimator=RandomForestClassifier(class_weight='balanced',\n",
       "                                                          random_state=42),\n",
       "                         n_jobs=-1))],\n",
       " 'verbose': False,\n",
       " 'cv': CountVectorizer(tokenizer=<function tokenize at 0x1256afaf0>),\n",
       " 'transformer': TfidfTransformer(),\n",
       " 'rfc': MultiOutputClassifier(estimator=RandomForestClassifier(class_weight='balanced',\n",
       "                                                        random_state=42),\n",
       "                       n_jobs=-1),\n",
       " 'cv__analyzer': 'word',\n",
       " 'cv__binary': False,\n",
       " 'cv__decode_error': 'strict',\n",
       " 'cv__dtype': numpy.int64,\n",
       " 'cv__encoding': 'utf-8',\n",
       " 'cv__input': 'content',\n",
       " 'cv__lowercase': True,\n",
       " 'cv__max_df': 1.0,\n",
       " 'cv__max_features': None,\n",
       " 'cv__min_df': 1,\n",
       " 'cv__ngram_range': (1, 1),\n",
       " 'cv__preprocessor': None,\n",
       " 'cv__stop_words': None,\n",
       " 'cv__strip_accents': None,\n",
       " 'cv__token_pattern': '(?u)\\\\b\\\\w\\\\w+\\\\b',\n",
       " 'cv__tokenizer': <function __main__.tokenize(text)>,\n",
       " 'cv__vocabulary': None,\n",
       " 'transformer__norm': 'l2',\n",
       " 'transformer__smooth_idf': True,\n",
       " 'transformer__sublinear_tf': False,\n",
       " 'transformer__use_idf': True,\n",
       " 'rfc__estimator__bootstrap': True,\n",
       " 'rfc__estimator__ccp_alpha': 0.0,\n",
       " 'rfc__estimator__class_weight': 'balanced',\n",
       " 'rfc__estimator__criterion': 'gini',\n",
       " 'rfc__estimator__max_depth': None,\n",
       " 'rfc__estimator__max_features': 'auto',\n",
       " 'rfc__estimator__max_leaf_nodes': None,\n",
       " 'rfc__estimator__max_samples': None,\n",
       " 'rfc__estimator__min_impurity_decrease': 0.0,\n",
       " 'rfc__estimator__min_impurity_split': None,\n",
       " 'rfc__estimator__min_samples_leaf': 1,\n",
       " 'rfc__estimator__min_samples_split': 2,\n",
       " 'rfc__estimator__min_weight_fraction_leaf': 0.0,\n",
       " 'rfc__estimator__n_estimators': 100,\n",
       " 'rfc__estimator__n_jobs': None,\n",
       " 'rfc__estimator__oob_score': False,\n",
       " 'rfc__estimator__random_state': 42,\n",
       " 'rfc__estimator__verbose': 0,\n",
       " 'rfc__estimator__warm_start': False,\n",
       " 'rfc__estimator': RandomForestClassifier(class_weight='balanced', random_state=42),\n",
       " 'rfc__n_jobs': -1}"
      ]
     },
     "execution_count": 21,
     "metadata": {},
     "output_type": "execute_result"
    }
   ],
   "source": [
    "pipeline.get_params()"
   ]
  },
  {
   "cell_type": "code",
   "execution_count": 22,
   "metadata": {},
   "outputs": [],
   "source": [
    "from sklearn.model_selection import GridSearchCV"
   ]
  },
  {
   "cell_type": "code",
   "execution_count": 32,
   "metadata": {},
   "outputs": [],
   "source": [
    "parameters = param_grid = {\n",
    "              \"cv__max_df\": (0.5, 1.0),  \n",
    "              \"rfc__estimator__min_samples_leaf\": [5, 10],\n",
    "#               \"rfc__estimator__n_estimators\": [100, 200],\n",
    "#               \"rfc__estimator__n_jobs\": [-1],\n",
    "              }\n",
    "\n",
    "cv = GridSearchCV(pipeline, param_grid=param_grid, scoring=\"f1_micro\")"
   ]
  },
  {
   "cell_type": "code",
   "execution_count": 33,
   "metadata": {},
   "outputs": [
    {
     "data": {
      "text/plain": [
       "GridSearchCV(estimator=Pipeline(steps=[('cv',\n",
       "                                        CountVectorizer(tokenizer=<function tokenize at 0x1256afaf0>)),\n",
       "                                       ('transformer', TfidfTransformer()),\n",
       "                                       ('rfc',\n",
       "                                        MultiOutputClassifier(estimator=RandomForestClassifier(class_weight='balanced',\n",
       "                                                                                               random_state=42),\n",
       "                                                              n_jobs=-1))]),\n",
       "             param_grid={'cv__max_df': (0.5, 1.0),\n",
       "                         'rfc__estimator__min_samples_leaf': [5, 10]},\n",
       "             scoring='f1_micro')"
      ]
     },
     "execution_count": 33,
     "metadata": {},
     "output_type": "execute_result"
    }
   ],
   "source": [
    "cv.fit(X_train, Y_train)"
   ]
  },
  {
   "cell_type": "markdown",
   "metadata": {},
   "source": [
    "### 7. Test your model\n",
    "Show the accuracy, precision, and recall of the tuned model.  \n",
    "\n",
    "Since this project focuses on code quality, process, and  pipelines, there is no minimum performance metric needed to pass. However, make sure to fine tune your models for accuracy, precision and recall to make your project stand out - especially for your portfolio!"
   ]
  },
  {
   "cell_type": "code",
   "execution_count": 34,
   "metadata": {},
   "outputs": [
    {
     "data": {
      "text/plain": [
       "{'cv__max_df': 0.5, 'rfc__estimator__min_samples_leaf': 5}"
      ]
     },
     "execution_count": 34,
     "metadata": {},
     "output_type": "execute_result"
    }
   ],
   "source": [
    "cv.best_params_"
   ]
  },
  {
   "cell_type": "code",
   "execution_count": 35,
   "metadata": {},
   "outputs": [],
   "source": [
    "Y_preds = cv.predict(X_test)"
   ]
  },
  {
   "cell_type": "code",
   "execution_count": 37,
   "metadata": {},
   "outputs": [],
   "source": [
    "generate_report()"
   ]
  },
  {
   "cell_type": "code",
   "execution_count": 38,
   "metadata": {},
   "outputs": [],
   "source": [
    "with open('rfc_gridsearchcv_results.json', 'w', encoding=\"utf-8\") as fhand:\n",
    "    json.dump(report_dict, fhand)"
   ]
  },
  {
   "cell_type": "code",
   "execution_count": 39,
   "metadata": {},
   "outputs": [
    {
     "name": "stdout",
     "output_type": "stream",
     "text": [
      "category: related \n",
      " accuracy: 0.8221, precision: 0.8579, recall: 0.9209, f-score: 0.8883\n",
      "category: request \n",
      " accuracy: 0.8942, precision: 0.8150, recall: 0.5269, f-score: 0.6401\n",
      "category: offer \n",
      " accuracy: 0.9950, precision: 0.0000, recall: 0.0000, f-score: 0.0000\n",
      "category: aid_related \n",
      " accuracy: 0.7498, precision: 0.7111, recall: 0.6788, f-score: 0.6945\n",
      "category: medical_help \n",
      " accuracy: 0.9181, precision: 0.6098, recall: 0.1126, f-score: 0.1901\n",
      "category: medical_products \n",
      " accuracy: 0.9561, precision: 0.8214, recall: 0.0935, f-score: 0.1679\n",
      "category: search_and_rescue \n",
      " accuracy: 0.9738, precision: 0.6000, recall: 0.0435, f-score: 0.0811\n",
      "category: security \n",
      " accuracy: 0.9833, precision: 0.3333, recall: 0.0116, f-score: 0.0225\n",
      "category: military \n",
      " accuracy: 0.9686, precision: 0.6923, recall: 0.0536, f-score: 0.0994\n",
      "category: water \n",
      " accuracy: 0.9615, precision: 0.7606, recall: 0.5209, f-score: 0.6183\n",
      "category: food \n",
      " accuracy: 0.9427, precision: 0.8589, recall: 0.5953, f-score: 0.7032\n",
      "category: shelter \n",
      " accuracy: 0.9248, precision: 0.7517, recall: 0.2349, f-score: 0.3580\n",
      "category: clothing \n",
      " accuracy: 0.9871, precision: 0.8462, recall: 0.1447, f-score: 0.2472\n",
      "category: money \n",
      " accuracy: 0.9727, precision: 0.5000, recall: 0.0282, f-score: 0.0533\n",
      "category: missing_people \n",
      " accuracy: 0.9881, precision: 0.0000, recall: 0.0000, f-score: 0.0000\n",
      "category: refugees \n",
      " accuracy: 0.9671, precision: 0.0000, recall: 0.0000, f-score: 0.0000\n",
      "category: death \n",
      " accuracy: 0.9602, precision: 0.6857, recall: 0.1091, f-score: 0.1882\n",
      "category: other_aid \n",
      " accuracy: 0.8638, precision: 0.5156, recall: 0.0927, f-score: 0.1571\n",
      "category: infrastructure_related \n",
      " accuracy: 0.9319, precision: 0.5000, recall: 0.0028, f-score: 0.0056\n",
      "category: transport \n",
      " accuracy: 0.9521, precision: 0.3333, recall: 0.0081, f-score: 0.0158\n",
      "category: buildings \n",
      " accuracy: 0.9488, precision: 0.3000, recall: 0.0115, f-score: 0.0221\n",
      "category: electricity \n",
      " accuracy: 0.9798, precision: 0.6154, recall: 0.0741, f-score: 0.1322\n",
      "category: tools \n",
      " accuracy: 0.9940, precision: 0.0000, recall: 0.0000, f-score: 0.0000\n",
      "category: hospitals \n",
      " accuracy: 0.9892, precision: 0.0000, recall: 0.0000, f-score: 0.0000\n",
      "category: shops \n",
      " accuracy: 0.9958, precision: 0.0000, recall: 0.0000, f-score: 0.0000\n",
      "category: aid_centers \n",
      " accuracy: 0.9869, precision: 0.0000, recall: 0.0000, f-score: 0.0000\n",
      "category: other_infrastructure \n",
      " accuracy: 0.9554, precision: 0.5000, recall: 0.0043, f-score: 0.0085\n",
      "category: weather_related \n",
      " accuracy: 0.8690, precision: 0.8202, recall: 0.6809, f-score: 0.7441\n",
      "category: floods \n",
      " accuracy: 0.9423, precision: 0.8371, recall: 0.3548, f-score: 0.4983\n",
      "category: storm \n",
      " accuracy: 0.9309, precision: 0.7484, recall: 0.4481, f-score: 0.5606\n",
      "category: fire \n",
      " accuracy: 0.9894, precision: 0.0000, recall: 0.0000, f-score: 0.0000\n",
      "category: earthquake \n",
      " accuracy: 0.9621, precision: 0.8692, recall: 0.6990, f-score: 0.7749\n",
      "category: cold \n",
      " accuracy: 0.9815, precision: 0.7500, recall: 0.0306, f-score: 0.0588\n",
      "category: other_weather \n",
      " accuracy: 0.9552, precision: 0.6000, recall: 0.0506, f-score: 0.0934\n",
      "category: direct_report \n",
      " accuracy: 0.8502, precision: 0.7290, recall: 0.4006, f-score: 0.5170\n"
     ]
    }
   ],
   "source": [
    "for k, v in report_dict.items():\n",
    "    print(f\"\"\"category: {k} \\n accuracy: {v['accuracy']:.4f}, precision: {v['1']['precision']:.4f}, recall: {v['1']['recall']:.4f}, f-score: {v['1']['f1-score']:.4f}\"\"\")"
   ]
  },
  {
   "cell_type": "markdown",
   "metadata": {},
   "source": [
    "### 8. Try improving your model further. Here are a few ideas:\n",
    "* try other machine learning algorithms\n",
    "* add other features besides the TF-IDF"
   ]
  },
  {
   "cell_type": "code",
   "execution_count": null,
   "metadata": {},
   "outputs": [],
   "source": []
  },
  {
   "cell_type": "markdown",
   "metadata": {},
   "source": [
    "### 9. Export your model as a pickle file"
   ]
  },
  {
   "cell_type": "code",
   "execution_count": 41,
   "metadata": {},
   "outputs": [],
   "source": [
    "import pickle\n",
    "\n",
    "pickle.dump(cv, open('model_rfc_gridsearchcv.pkl','wb'))"
   ]
  },
  {
   "cell_type": "markdown",
   "metadata": {},
   "source": [
    "### 10. Use this notebook to complete `train.py`\n",
    "Use the template file attached in the Resources folder to write a script that runs the steps above to create a database and export a model based on a new dataset specified by the user."
   ]
  },
  {
   "cell_type": "code",
   "execution_count": null,
   "metadata": {},
   "outputs": [],
   "source": []
  }
 ],
 "metadata": {
  "kernelspec": {
   "display_name": "Python 3 (ipykernel)",
   "language": "python",
   "name": "python3"
  },
  "language_info": {
   "codemirror_mode": {
    "name": "ipython",
    "version": 3
   },
   "file_extension": ".py",
   "mimetype": "text/x-python",
   "name": "python",
   "nbconvert_exporter": "python",
   "pygments_lexer": "ipython3",
   "version": "3.9.1"
  }
 },
 "nbformat": 4,
 "nbformat_minor": 4
}
